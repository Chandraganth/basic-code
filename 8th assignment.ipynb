{
 "cells": [
  {
   "cell_type": "code",
   "execution_count": 1,
   "id": "3b035c59-c36e-4c76-b55f-2acc855d0a3d",
   "metadata": {},
   "outputs": [
    {
     "data": {
      "text/plain": [
       "'1. Write a Python Program to Add Two Matrices?\\n2. Write a Python Program to Multiply Two Matrices?\\n3. Write a Python Program to Transpose a Matrix?\\n4. Write a Python Program to Sort Words in Alphabetic Order?\\n5. Write a Python Program to Remove Punctuation From a String?'"
      ]
     },
     "execution_count": 1,
     "metadata": {},
     "output_type": "execute_result"
    }
   ],
   "source": [
    "\"\"\"1. Write a Python Program to Add Two Matrices?\n",
    "2. Write a Python Program to Multiply Two Matrices?\n",
    "3. Write a Python Program to Transpose a Matrix?\n",
    "4. Write a Python Program to Sort Words in Alphabetic Order?\n",
    "5. Write a Python Program to Remove Punctuation From a String?\"\"\""
   ]
  },
  {
   "cell_type": "code",
   "execution_count": 4,
   "id": "0ef6e804-06cc-4f4c-954b-808b90361f1d",
   "metadata": {},
   "outputs": [
    {
     "name": "stdout",
     "output_type": "stream",
     "text": [
      "sum of a and b matrices is  \n",
      " [[ 8 12 10]\n",
      " [10 10 15]\n",
      " [13  9  5]]\n"
     ]
    }
   ],
   "source": [
    "#1.\n",
    "import numpy as np\n",
    "\n",
    "a = np.array([[2,3,5],\n",
    "              [5,6,9],\n",
    "              [5,2,1]])\n",
    "b = np.array([[6,9,5],\n",
    "              [5,4,6],\n",
    "              [8,7,4]])\n",
    "msum = np.add(a,b)\n",
    "print(\"sum of a and b matrices is  \\n\",msum)"
   ]
  },
  {
   "cell_type": "code",
   "execution_count": 5,
   "id": "85e6e459-47e3-4fcc-884e-90246d27de3e",
   "metadata": {},
   "outputs": [
    {
     "name": "stdout",
     "output_type": "stream",
     "text": [
      "product of 2 matrices is \n",
      " [[ 67  65  48]\n",
      " [132 132  97]\n",
      " [ 48  60  41]]\n"
     ]
    }
   ],
   "source": [
    "2.\n",
    "a = np.array([[2,3,5],\n",
    "              [5,6,9],\n",
    "              [5,2,1]])\n",
    "b = np.array([[6,9,5],\n",
    "              [5,4,6],\n",
    "              [8,7,4]])\n",
    "mprod = np.dot(a,b)\n",
    "print(\"product of 2 matrices is \\n\",mprod)"
   ]
  },
  {
   "cell_type": "code",
   "execution_count": 9,
   "id": "06c37baa-ab00-402e-8336-2bbee2ef612c",
   "metadata": {},
   "outputs": [
    {
     "name": "stdout",
     "output_type": "stream",
     "text": [
      "[1 4]\n",
      "[2 5]\n",
      "[3 6]\n"
     ]
    }
   ],
   "source": [
    "#3.\n",
    "\n",
    "a = np.array([[1,2,3],[4,5,6]])\n",
    "b = np.array([[0,0],[0,0],[0,0]])\n",
    "for i in range(len(a)):\n",
    "    for j in range(len(a[0])):\n",
    "        b[j][i] = a[i][j]\n",
    "for transpose in b:\n",
    "    print(transpose)"
   ]
  },
  {
   "cell_type": "code",
   "execution_count": 10,
   "id": "7e53e90e-743e-4e65-830f-d0bed241d662",
   "metadata": {},
   "outputs": [
    {
     "name": "stdin",
     "output_type": "stream",
     "text": [
      "enter hello my champ\n"
     ]
    },
    {
     "name": "stdout",
     "output_type": "stream",
     "text": [
      "champ\n",
      "hello\n",
      "my\n"
     ]
    }
   ],
   "source": [
    "#4.\n",
    "a = input(\"enter\")\n",
    "alp_ord = a.split()\n",
    "alp_ord.sort()\n",
    "for i in alp_ord:\n",
    "    print(i)"
   ]
  },
  {
   "cell_type": "code",
   "execution_count": 12,
   "id": "a4d808da-3880-4400-b01d-a19905f13b36",
   "metadata": {},
   "outputs": [
    {
     "name": "stdout",
     "output_type": "stream",
     "text": [
      "hey how are you\n"
     ]
    }
   ],
   "source": [
    "#5.\n",
    "collections = \".,@!#$%^&*\"\n",
    "a = \"hey, how are you\"\n",
    "b = \"\"\n",
    "for i in a:\n",
    "    if i not in collections:\n",
    "        b = b+i\n",
    "print(b)"
   ]
  },
  {
   "cell_type": "code",
   "execution_count": null,
   "id": "820e8008-c11c-489e-9c13-c6e58a359389",
   "metadata": {},
   "outputs": [],
   "source": []
  }
 ],
 "metadata": {
  "kernelspec": {
   "display_name": "Python 3 (ipykernel)",
   "language": "python",
   "name": "python3"
  },
  "language_info": {
   "codemirror_mode": {
    "name": "ipython",
    "version": 3
   },
   "file_extension": ".py",
   "mimetype": "text/x-python",
   "name": "python",
   "nbconvert_exporter": "python",
   "pygments_lexer": "ipython3",
   "version": "3.10.6"
  }
 },
 "nbformat": 4,
 "nbformat_minor": 5
}
