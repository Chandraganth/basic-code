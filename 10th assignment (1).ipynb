{
 "cells": [
  {
   "cell_type": "code",
   "execution_count": 9,
   "id": "ff113f01-4d29-4a5e-a2f0-ef11a295a267",
   "metadata": {},
   "outputs": [
    {
     "name": "stdout",
     "output_type": "stream",
     "text": [
      "50\n",
      "115\n",
      "163\n",
      "253\n"
     ]
    }
   ],
   "source": [
    "#Write a Python program to find sum of elements in list?\n",
    "\n",
    "marks = [50,65,48,90]\n",
    "total = 0\n",
    "for i  in marks:\n",
    "    total += i\n",
    "    print(total)\n",
    "    "
   ]
  },
  {
   "cell_type": "code",
   "execution_count": 12,
   "id": "1f78979e-8b50-4da4-b36e-5f78ac0e3a9a",
   "metadata": {},
   "outputs": [
    {
     "name": "stdin",
     "output_type": "stream",
     "text": [
      "Enter the length of your list :  2\n",
      " 3\n",
      " 2\n"
     ]
    },
    {
     "name": "stdout",
     "output_type": "stream",
     "text": [
      "The List is  [3, 2]\n",
      "Product  is : 6\n"
     ]
    }
   ],
   "source": [
    "#prod\n",
    "n = int(input(\"Enter the length of  list : \"))\n",
    "lst = []\n",
    "\n",
    "for i in range(n):\n",
    "    lst.append(int(input()))\n",
    "print(\"The List is \",lst)\n",
    "product = 1\n",
    "for i in lst:\n",
    "    product = product*i\n",
    "print(\"Product  is :\",product)\n"
   ]
  },
  {
   "cell_type": "code",
   "execution_count": 13,
   "id": "0f0b73e7-3bd0-40b8-bf6c-581e60d720ac",
   "metadata": {},
   "outputs": [
    {
     "name": "stdin",
     "output_type": "stream",
     "text": [
      "Enter the length of  list :  2\n",
      " 0\n",
      " 1\n"
     ]
    },
    {
     "name": "stdout",
     "output_type": "stream",
     "text": [
      "The List is  [0, 1]\n",
      "The Smallest no. in the list is : 0\n"
     ]
    }
   ],
   "source": [
    "#min\n",
    "n = int(input(\"Enter the length of  list : \"))\n",
    "lst = []\n",
    "for i in range(n):\n",
    "    lst.append(int(input()))\n",
    "print(\"The List is \",lst)\n",
    "print(\"The Smallest no. in the list is :\",min(lst))"
   ]
  },
  {
   "cell_type": "code",
   "execution_count": 14,
   "id": "58f53e73-299e-4e2b-bb20-f89f3badb672",
   "metadata": {},
   "outputs": [
    {
     "name": "stdin",
     "output_type": "stream",
     "text": [
      "enter the length 2\n",
      " 1\n",
      " 3\n"
     ]
    },
    {
     "name": "stdout",
     "output_type": "stream",
     "text": [
      "list is [1, 3]\n",
      "maximum is  3\n"
     ]
    }
   ],
   "source": [
    "#max\n",
    "n = int(input(\"enter the length\"))\n",
    "lst = []\n",
    "for i in range(n):\n",
    "    lst.append(int(input()))\n",
    "print(\"list is\",lst)\n",
    "print(\"maximum is \", max(lst))\n",
    "               "
   ]
  },
  {
   "cell_type": "code",
   "execution_count": 16,
   "id": "805b54eb-a08d-4bd7-a9d1-7747a725afc1",
   "metadata": {},
   "outputs": [
    {
     "name": "stdin",
     "output_type": "stream",
     "text": [
      "enter the length 3\n",
      " 1\n",
      " 2\n",
      " 3\n"
     ]
    },
    {
     "name": "stdout",
     "output_type": "stream",
     "text": [
      "list is [1, 2, 3]\n",
      " 2nd maximum is  2\n"
     ]
    }
   ],
   "source": [
    "#2nd max\n",
    "n = int(input(\"enter the length\"))\n",
    "lst = []\n",
    "for i in range(n):\n",
    "    lst.append(int(input()))\n",
    "    lst.sort()\n",
    "print(\"list is\",lst)\n",
    "print(\" 2nd maximum is \", lst[-2])"
   ]
  },
  {
   "cell_type": "code",
   "execution_count": 17,
   "id": "b1e860cc-81b1-4eb3-93f3-409f880db4eb",
   "metadata": {},
   "outputs": [
    {
     "name": "stdout",
     "output_type": "stream",
     "text": [
      "6\n",
      "2\n",
      "8\n",
      "46\n"
     ]
    }
   ],
   "source": [
    "#even numbers\n",
    "a = [5,6,2,9,8,46]\n",
    "for i in a:\n",
    "    if i%2 == 0:\n",
    "        print(i)\n"
   ]
  },
  {
   "cell_type": "code",
   "execution_count": 18,
   "id": "994e8e24-2778-49ac-8a44-24807f45cefe",
   "metadata": {},
   "outputs": [
    {
     "name": "stdout",
     "output_type": "stream",
     "text": [
      "1\n",
      "3\n",
      "5\n",
      "89\n",
      "77\n"
     ]
    }
   ],
   "source": [
    "#odd numbers\n",
    "a = [1,3,5,6,4,89,77]\n",
    "for i in a:\n",
    "    if i%2 != 0:\n",
    "        print(i)"
   ]
  },
  {
   "cell_type": "code",
   "execution_count": 21,
   "id": "baac783c-d625-445a-8ec6-a56a7e88a1b3",
   "metadata": {},
   "outputs": [
    {
     "name": "stdout",
     "output_type": "stream",
     "text": [
      "56\n",
      "96\n",
      "4\n",
      "6\n",
      "9\n",
      "66\n"
     ]
    }
   ],
   "source": [
    "#empty list\n",
    "a = [56,96,4,6,[],[],9,[],66]\n",
    "for i in a:\n",
    "    if i != []:\n",
    "        print(i)"
   ]
  },
  {
   "cell_type": "code",
   "execution_count": null,
   "id": "eb2d171b-fc31-440a-b3f0-e680a5932d13",
   "metadata": {},
   "outputs": [
    {
     "name": "stdin",
     "output_type": "stream",
     "text": [
      " 6\n",
      " 5\n",
      " 6\n"
     ]
    },
    {
     "name": "stdout",
     "output_type": "stream",
     "text": [
      "The List is  [6, 5, 6]\n",
      "Cloning By list copying lst  [6, 5, 6]\n"
     ]
    }
   ],
   "source": [
    "lst = []\n",
    "for i in range(n):\n",
    "    lst.append(int(input()))\n",
    "print(\"The List is \",lst)\n",
    "\n",
    "lst_copy = lst.copy()\n",
    "print(\"Cloning By list copying lst \",lst_copy)"
   ]
  },
  {
   "cell_type": "code",
   "execution_count": 24,
   "id": "3ac093b4-f44d-4e9d-88e8-5680b6c47476",
   "metadata": {},
   "outputs": [
    {
     "name": "stdin",
     "output_type": "stream",
     "text": [
      " 6\n",
      " 5\n",
      " 9\n"
     ]
    },
    {
     "name": "stdout",
     "output_type": "stream",
     "text": [
      "The List is  [6, 5, 9]\n",
      "Cloning By list copying lst  [6, 5, 9]\n"
     ]
    }
   ],
   "source": [
    "lst = []\n",
    "for i in range(n):\n",
    "    lst.append(int(input()))\n",
    "print(\"The List is \",lst)\n",
    "\n",
    "lst_copy = lst.copy()\n",
    "print(\"Cloning By list copying lst \",lst_copy)"
   ]
  },
  {
   "cell_type": "code",
   "execution_count": null,
   "id": "f60a2b30-ef3f-4afc-9131-7a4750d825f9",
   "metadata": {},
   "outputs": [],
   "source": []
  }
 ],
 "metadata": {
  "kernelspec": {
   "display_name": "Python 3 (ipykernel)",
   "language": "python",
   "name": "python3"
  },
  "language_info": {
   "codemirror_mode": {
    "name": "ipython",
    "version": 3
   },
   "file_extension": ".py",
   "mimetype": "text/x-python",
   "name": "python",
   "nbconvert_exporter": "python",
   "pygments_lexer": "ipython3",
   "version": "3.10.6"
  }
 },
 "nbformat": 4,
 "nbformat_minor": 5
}
