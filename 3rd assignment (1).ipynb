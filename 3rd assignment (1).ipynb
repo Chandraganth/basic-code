{
 "cells": [
  {
   "cell_type": "code",
   "execution_count": 4,
   "id": "f1fcc58a-c776-49df-9168-176ba21b38f8",
   "metadata": {},
   "outputs": [
    {
     "name": "stdin",
     "output_type": "stream",
     "text": [
      "enter a  number  0.5\n"
     ]
    },
    {
     "name": "stdout",
     "output_type": "stream",
     "text": [
      "0.5 is positive\n"
     ]
    }
   ],
   "source": [
    "# CHECK NO IS +VE , -VE OR  ZERO\n",
    "\n",
    "\n",
    "number = float(input(\"enter a  number \"))\n",
    "if number < 0:\n",
    "    print( number , \"is negative \")\n",
    "elif number == 0:\n",
    "    print(number , \"is zero\")\n",
    "else:\n",
    "    print(number , \"is positive\")"
   ]
  },
  {
   "cell_type": "code",
   "execution_count": 12,
   "id": "bde878dd-b18b-4564-b689-0ecbd42b7941",
   "metadata": {},
   "outputs": [
    {
     "name": "stdin",
     "output_type": "stream",
     "text": [
      "enter a number  21\n"
     ]
    },
    {
     "name": "stdout",
     "output_type": "stream",
     "text": [
      "21.0 is odd\n"
     ]
    }
   ],
   "source": [
    "# Write a Python Program to Check if a Number is Odd or Even?\n",
    "\n",
    "number = float(input(\"enter a number \"))\n",
    "if number%2 == 0:\n",
    "    print(number , \"is even\")\n",
    "else:\n",
    "    print(number ,\"is odd\")"
   ]
  },
  {
   "cell_type": "code",
   "execution_count": 14,
   "id": "1dcce219-da5d-443e-8b2b-2bcb7f9ffeeb",
   "metadata": {},
   "outputs": [
    {
     "name": "stdin",
     "output_type": "stream",
     "text": [
      " 2015\n"
     ]
    },
    {
     "name": "stdout",
     "output_type": "stream",
     "text": [
      "2015 is not a leap year\n"
     ]
    }
   ],
   "source": [
    "# Write a Python Program to Check Leap Year?\n",
    "\n",
    "year = int(input())\n",
    "if year%4 == 0:\n",
    "    print(year,\"is a leap year\")\n",
    "else:\n",
    "    print(year,\"is not a leap year\")"
   ]
  },
  {
   "cell_type": "code",
   "execution_count": 30,
   "id": "322adfa7-b8df-40a0-9ed2-56a44575e5e2",
   "metadata": {},
   "outputs": [
    {
     "name": "stdin",
     "output_type": "stream",
     "text": [
      "enter a no  52\n"
     ]
    },
    {
     "name": "stdout",
     "output_type": "stream",
     "text": [
      "52 is not a prime number\n"
     ]
    }
   ],
   "source": [
    "# Write a Python Progra\n",
    "\n",
    "m to Check Prime Number?\n",
    "\n",
    "number = int(input(\"enter a no \"))\n",
    "if number == 1:\n",
    "    print(number , \"isn't  a prime no\")\n",
    "elif number > 1:\n",
    "    for i in range(2,number):\n",
    "        if number%i == 0:\n",
    "            print(number , \"is not a prime number\")\n",
    "            break\n",
    "        else:\n",
    "            print(number,\"is a prime number\")\n",
    "            break\n",
    "else:\n",
    "    print(number,\"is not a prime number\")\n",
    "            "
   ]
  },
  {
   "cell_type": "code",
   "execution_count": 60,
   "id": "dbc06cf5-ca80-444d-a6aa-677317f583b0",
   "metadata": {},
   "outputs": [
    {
     "name": "stdin",
     "output_type": "stream",
     "text": [
      "start value  1\n",
      "end value  50\n"
     ]
    },
    {
     "name": "stdout",
     "output_type": "stream",
     "text": [
      "2\n",
      "3\n",
      "5\n",
      "7\n",
      "11\n",
      "13\n",
      "17\n",
      "19\n",
      "23\n",
      "29\n",
      "31\n",
      "37\n",
      "41\n",
      "43\n",
      "47\n"
     ]
    }
   ],
   "source": [
    "# Write a Python Program to Print all Prime Numbers in an Interval of 1-10000?\n",
    "\n",
    "\n",
    "x =int(input(\"start value \"))\n",
    "y =int(input(\"end value \"))\n",
    "        \n",
    "for i in range(x,y+1):\n",
    "    if i >1:\n",
    "        for j in range(2,i):\n",
    "            if(i%j)==0:\n",
    "                break\n",
    "        else:\n",
    "            print(i)\n",
    "            \n",
    "        \n",
    "    "
   ]
  },
  {
   "cell_type": "code",
   "execution_count": null,
   "id": "b15a827e-087f-47b9-8b0a-6f1ef074ffe1",
   "metadata": {},
   "outputs": [],
   "source": []
  },
  {
   "cell_type": "code",
   "execution_count": null,
   "id": "7f6d9951-f6db-441c-9b74-9438d4949e27",
   "metadata": {},
   "outputs": [],
   "source": []
  },
  {
   "cell_type": "code",
   "execution_count": null,
   "id": "4246a75b-7e0e-4225-ba92-ac507b5b33d6",
   "metadata": {},
   "outputs": [],
   "source": []
  }
 ],
 "metadata": {
  "kernelspec": {
   "display_name": "Python 3 (ipykernel)",
   "language": "python",
   "name": "python3"
  },
  "language_info": {
   "codemirror_mode": {
    "name": "ipython",
    "version": 3
   },
   "file_extension": ".py",
   "mimetype": "text/x-python",
   "name": "python",
   "nbconvert_exporter": "python",
   "pygments_lexer": "ipython3",
   "version": "3.10.6"
  }
 },
 "nbformat": 4,
 "nbformat_minor": 5
}
