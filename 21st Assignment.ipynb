{
 "cells": [
  {
   "cell_type": "code",
   "execution_count": null,
   "id": "340b6f8e-b0d7-401e-a8dc-00f5a75d52ad",
   "metadata": {},
   "outputs": [],
   "source": [
    "def alphab(a):\n",
    "    b = ''.join(sorted(a))\n",
    "    print(f'{a} ➞ {b}')\n",
    "\n",
    "alphab(\"alto\")"
   ]
  },
  {
   "cell_type": "code",
   "execution_count": null,
   "id": "f4e28edb-1ca8-468f-9b55-347667bf67f2",
   "metadata": {},
   "outputs": [],
   "source": [
    "def CI(principal,years,ri,cp):\n",
    "    ci = principal*(1+(ri/cp))**(cp*years)\n",
    "    print(f'Output ➞ {ci:.2f}')\n",
    "\n",
    "CI(2500,2.5,8,2)"
   ]
  },
  {
   "cell_type": "code",
   "execution_count": null,
   "id": "dc24ec90-1d34-4589-8d89-02759ca4d799",
   "metadata": {},
   "outputs": [],
   "source": [
    "def returnint(a):\n",
    "    b = []\n",
    "    for i in a:\n",
    "        if type(i) == int:\n",
    "            b.append(i)\n",
    "    print(f'{a} ➞ {b}')\n",
    "    \n",
    "returnint([9, 2, \"ball\", \"bar\",45, \"lens\", 16])"
   ]
  },
  {
   "cell_type": "code",
   "execution_count": null,
   "id": "036ca3ea-9d42-49c8-bb68-c236cb1c9e95",
   "metadata": {},
   "outputs": [],
   "source": [
    "def getbud(indict):\n",
    "    sum = 0\n",
    "    for i in indict:\n",
    "        sum += i[\"budget\"]\n",
    "    print(f'Output ➞ {sum}')\n",
    "    \n",
    "getbud([\n",
    "{ \"name\": \"arun\", \"age\": 26, \"budget\": 52000 },\n",
    "{ \"name\": \"chan\", \"age\": 30, \"budget\": 15000 },\n",
    "{ \"name\": \"ani\", \"age\": 10, \"budget\": 10000 }\n",
    "])\n"
   ]
  },
  {
   "cell_type": "code",
   "execution_count": null,
   "id": "1908e276-ed90-4f3d-86b8-3b0acc428cf0",
   "metadata": {},
   "outputs": [],
   "source": []
  }
 ],
 "metadata": {
  "kernelspec": {
   "display_name": "Python 3 (ipykernel)",
   "language": "python",
   "name": "python3"
  },
  "language_info": {
   "codemirror_mode": {
    "name": "ipython",
    "version": 3
   },
   "file_extension": ".py",
   "mimetype": "text/x-python",
   "name": "python",
   "nbconvert_exporter": "python",
   "pygments_lexer": "ipython3",
   "version": "3.10.6"
  }
 },
 "nbformat": 4,
 "nbformat_minor": 5
}
