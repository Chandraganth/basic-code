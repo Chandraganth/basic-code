{
 "cells": [
  {
   "cell_type": "code",
   "execution_count": 2,
   "id": "78dc72c7-b6af-47d2-a204-8b9b4735febc",
   "metadata": {},
   "outputs": [
    {
     "name": "stdin",
     "output_type": "stream",
     "text": [
      "Enter the string:  chandra\n",
      "Enter the length of the string:  5\n"
     ]
    },
    {
     "name": "stdout",
     "output_type": "stream",
     "text": [
      "chandra\n"
     ]
    }
   ],
   "source": [
    "#1. Write a Python program to find words which are greater than given length k ?\n",
    "def checkLengthOfString():\n",
    "    in_string = input(\"Enter the string: \")\n",
    "    in_length = int(input('Enter the length of the string: '))\n",
    "    out_string = []\n",
    "    for i in in_string.split(\" \"):\n",
    "        if len(i) > in_length:\n",
    "            out_string.append(i)\n",
    "    print(','.join(out_string))\n",
    "\n",
    "checkLengthOfString()"
   ]
  },
  {
   "cell_type": "code",
   "execution_count": 4,
   "id": "ed3c1fbb-a362-41c4-845c-8e517c4c6c34",
   "metadata": {},
   "outputs": [
    {
     "name": "stdin",
     "output_type": "stream",
     "text": [
      "Enter the String:  helllo\n",
      "Enter the ith Character:  4\n"
     ]
    },
    {
     "name": "stdout",
     "output_type": "stream",
     "text": [
      "hello\n"
     ]
    }
   ],
   "source": [
    "#2. Write a Python program for removing i-th character from a string ?\n",
    "def remove():\n",
    "    in_str = input(\"Enter the String: \")\n",
    "    in_strnum = int(input(\"Enter the ith Character: \"))\n",
    "    out_string = ''\n",
    "    for i in range(len(in_str)):\n",
    "        if i != in_strnum:\n",
    "            out_string = out_string + in_str[i]\n",
    "    print(out_string)\n",
    "    \n",
    "remove()"
   ]
  },
  {
   "cell_type": "code",
   "execution_count": 5,
   "id": "bc59e0d3-5a1c-4a43-b166-6f9e8a78c991",
   "metadata": {},
   "outputs": [
    {
     "name": "stdin",
     "output_type": "stream",
     "text": [
      "Enter the string:  chan\n"
     ]
    },
    {
     "name": "stdout",
     "output_type": "stream",
     "text": [
      "Split String: ['chan']\n",
      "Join String: chan\n"
     ]
    }
   ],
   "source": [
    "#. Write a Python program to split and join a string ?\n",
    "def splitJoinString():\n",
    "    instring = input('Enter the string: ')\n",
    "    print(f\"Split String: {instring.split(' ')}\")\n",
    "    print(f\"Join String: {' '.join(instring.split(' '))}\")\n",
    "\n",
    "splitJoinString()"
   ]
  },
  {
   "cell_type": "code",
   "execution_count": 7,
   "id": "a95d75d0-cf57-4305-a5eb-5e6c2ec5b883",
   "metadata": {},
   "outputs": [
    {
     "name": "stdin",
     "output_type": "stream",
     "text": [
      "Enter the string:  565\n"
     ]
    },
    {
     "name": "stdout",
     "output_type": "stream",
     "text": [
      "565 is not a binary string\n"
     ]
    },
    {
     "name": "stdin",
     "output_type": "stream",
     "text": [
      "Enter the string:  10101\n"
     ]
    },
    {
     "name": "stdout",
     "output_type": "stream",
     "text": [
      "10101 is a binary string\n"
     ]
    }
   ],
   "source": [
    "#Write a Python to check if a given string is binary string or not ?\n",
    "def checkBinary():\n",
    "    instr = input('Enter the string: ')\n",
    "    a = 0\n",
    "    for i in instr:\n",
    "        if i in ['0','1']:\n",
    "            a = 1\n",
    "            continue\n",
    "        else:\n",
    "            a = 0\n",
    "            break\n",
    "    result = 'is a binary string' if a == 1 else 'is not a binary string' \n",
    "    print(f'{instr} {result}')\n",
    "\n",
    "checkBinary()\n",
    "checkBinary()"
   ]
  },
  {
   "cell_type": "code",
   "execution_count": 8,
   "id": "61590f2d-4a77-458a-bff9-9884e2bdf1cc",
   "metadata": {},
   "outputs": [
    {
     "name": "stdin",
     "output_type": "stream",
     "text": [
      "Enter the String 1:  hello man\n",
      "Enter the String 2:  hello woman\n"
     ]
    },
    {
     "name": "stdout",
     "output_type": "stream",
     "text": [
      "{'man', 'woman'}\n"
     ]
    }
   ],
   "source": [
    "def unCommonWords():\n",
    "    in_string_1 = set(input(\"Enter the String 1: \").split(' '))\n",
    "    in_string_2 = set(input(\"Enter the String 2: \").split(' '))\n",
    "    out_string = (in_string_1.union(in_string_2)).difference(in_string_1.intersection(in_string_2))\n",
    "    print(out_string)\n",
    "\n",
    "unCommonWords()"
   ]
  },
  {
   "cell_type": "code",
   "execution_count": 10,
   "id": "f55988b9-98ee-4ac1-850c-3de5a23a6c99",
   "metadata": {},
   "outputs": [
    {
     "name": "stdin",
     "output_type": "stream",
     "text": [
      "Enter the string:  ,2ff2@0\n"
     ]
    },
    {
     "name": "stdout",
     "output_type": "stream",
     "text": [
      "There are 2 Speical Characters in ,2ff2@0 which are [',', '@']\n"
     ]
    },
    {
     "name": "stdin",
     "output_type": "stream",
     "text": [
      "Enter the string:  ccc\n"
     ]
    },
    {
     "name": "stdout",
     "output_type": "stream",
     "text": [
      "There are 0 Speical Characters in ccc which are []\n"
     ]
    }
   ],
   "source": [
    "#Write a Python Program to check if a string contains any special character?\n",
    "def checkSpecialChar():\n",
    "    spl_chars = '[,@_!#$%^&*()<>?/\\|}{~:]'\n",
    "    a = input('Enter the string: ')\n",
    "    count = 0\n",
    "    charlist = []\n",
    "    for i in a:\n",
    "        if i in spl_chars:\n",
    "            charlist.append(i)\n",
    "            count = count+1\n",
    "    print(f'There are {count} Speical Characters in {a} which are {charlist}')\n",
    "            \n",
    "        \n",
    "checkSpecialChar()\n",
    "checkSpecialChar()"
   ]
  },
  {
   "cell_type": "code",
   "execution_count": null,
   "id": "bf4389b9-6ed4-4518-aecd-d5589ea4e369",
   "metadata": {},
   "outputs": [],
   "source": []
  }
 ],
 "metadata": {
  "kernelspec": {
   "display_name": "Python 3 (ipykernel)",
   "language": "python",
   "name": "python3"
  },
  "language_info": {
   "codemirror_mode": {
    "name": "ipython",
    "version": 3
   },
   "file_extension": ".py",
   "mimetype": "text/x-python",
   "name": "python",
   "nbconvert_exporter": "python",
   "pygments_lexer": "ipython3",
   "version": "3.10.6"
  }
 },
 "nbformat": 4,
 "nbformat_minor": 5
}
