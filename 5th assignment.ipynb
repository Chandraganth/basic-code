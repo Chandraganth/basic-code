{
 "cells": [
  {
   "cell_type": "code",
   "execution_count": 1,
   "id": "677b1996-01d1-448e-a5c3-b60d22a34ece",
   "metadata": {},
   "outputs": [
    {
     "data": {
      "text/plain": [
       "'1. Write a Python Program to Find LCM?\\n2. Write a Python Program to Find HCF?\\n3. Write a Python Program to Convert Decimal to Binary, Octal and Hexadecimal?\\n4. Write a Python Program To Find ASCII value of a character?\\n5. Write a Python Program to Make a Simple Calculator with 4 basic mathematical operations?'"
      ]
     },
     "execution_count": 1,
     "metadata": {},
     "output_type": "execute_result"
    }
   ],
   "source": [
    "\"\"\"1. Write a Python Program to Find LCM?\n",
    "2. Write a Python Program to Find HCF?\n",
    "3. Write a Python Program to Convert Decimal to Binary, Octal and Hexadecimal?\n",
    "4. Write a Python Program To Find ASCII value of a character?\n",
    "5. Write a Python Program to Make a Simple Calculator with 4 basic mathematical operations?\"\"\""
   ]
  },
  {
   "cell_type": "code",
   "execution_count": 33,
   "id": "08d1da64-b981-457f-a354-19993cc07476",
   "metadata": {},
   "outputs": [],
   "source": [
    "# find hcf\n",
    "\n",
    "\n",
    "def finding_hcf(a,b):\n",
    "    if a < b:\n",
    "        value = a\n",
    "    else:\n",
    "        value = b\n",
    "    for i in (1, value + 1):\n",
    "        if((a % i == 0) and (b % i == 0)):\n",
    "            hcf = i\n",
    "    return hcf\n",
    "    \n",
    "\n"
   ]
  },
  {
   "cell_type": "code",
   "execution_count": null,
   "id": "190d81b0-3568-4eaa-aa9a-8d2c26f15ccb",
   "metadata": {},
   "outputs": [],
   "source": []
  },
  {
   "cell_type": "code",
   "execution_count": 26,
   "id": "220a3a5d-a32f-4e27-849f-ac2efe8efa31",
   "metadata": {},
   "outputs": [],
   "source": [
    "#to find lcm\n",
    "\n",
    "def find_lcm(x,y):\n",
    "    if x > y:\n",
    "        bigger = x\n",
    "    else:\n",
    "        bigger = y\n",
    "    while(True):\n",
    "        if((bigger % x == 0) and (bigger % y == 0)):\n",
    "            lcm = bigger\n",
    "            break\n",
    "        bigger += 1\n",
    "    return lcm\n",
    "        "
   ]
  },
  {
   "cell_type": "code",
   "execution_count": 40,
   "id": "79e5d2ee-0e87-40d4-a212-de8e59183259",
   "metadata": {},
   "outputs": [
    {
     "name": "stdout",
     "output_type": "stream",
     "text": [
      "111\n"
     ]
    }
   ],
   "source": [
    "#ASCII VALUE\n",
    "\n",
    "a = \"o\"\n",
    "print(ord(a))"
   ]
  },
  {
   "cell_type": "code",
   "execution_count": 44,
   "id": "e204817e-50be-4165-8f63-b77463e0127f",
   "metadata": {},
   "outputs": [
    {
     "name": "stdin",
     "output_type": "stream",
     "text": [
      " 500\n"
     ]
    },
    {
     "name": "stdout",
     "output_type": "stream",
     "text": [
      "binary value is 0b111110100\n",
      "octadecimaal value is 0o764\n",
      "hexadecimal value is  0x1f4\n"
     ]
    }
   ],
   "source": [
    "#CONVERSION\n",
    "\n",
    "decimal = int(input())\n",
    "print(\"binary value is\",bin(decimal))\n",
    "print(\"octadecimaal value is\",oct(decimal))\n",
    "print(\"hexadecimal value is \",hex(decimal))"
   ]
  },
  {
   "cell_type": "code",
   "execution_count": 6,
   "id": "90bb71c1-e0c6-4c7b-b490-7120cb13aac5",
   "metadata": {},
   "outputs": [
    {
     "name": "stdout",
     "output_type": "stream",
     "text": [
      "lets perform calculations\n",
      "add\n",
      "sub\n",
      "multiply\n",
      "divide\n"
     ]
    },
    {
     "name": "stdin",
     "output_type": "stream",
     "text": [
      "choose a calculation to perform divide\n",
      "enter a number 60\n",
      "enter a number 89\n"
     ]
    },
    {
     "name": "stdout",
     "output_type": "stream",
     "text": [
      "0.6741573033707865\n"
     ]
    }
   ],
   "source": [
    "# calculator\n",
    "\n",
    "\n",
    "print(\"lets perform calculations\")\n",
    "print(\"add\")\n",
    "print(\"sub\")\n",
    "print(\"multiply\")\n",
    "print(\"divide\")\n",
    "\n",
    "choice = input(\"choose a calculation to perform\")\n",
    "if choice in (\"add\" , \"sub\" , \"multiply\" , \"divide\"):\n",
    "    a = int(input(\"enter a number\"))\n",
    "    b = int(input(\"enter a number\"))\n",
    "    \n",
    "    if choice == 'add':\n",
    "        print(a+b)\n",
    "    elif choice == 'sub':\n",
    "        print(a-b)\n",
    "    elif choice == 'multiply':\n",
    "        print(a*b)\n",
    "    elif choice == 'divide':\n",
    "        print(a/b)\n",
    "else:\n",
    "     print(\"enter a valid function to perform\")\n",
    "    \n",
    "    "
   ]
  },
  {
   "cell_type": "code",
   "execution_count": null,
   "id": "67c0910f-714f-4185-a728-e02d93ff0ad1",
   "metadata": {},
   "outputs": [],
   "source": []
  }
 ],
 "metadata": {
  "kernelspec": {
   "display_name": "Python 3 (ipykernel)",
   "language": "python",
   "name": "python3"
  },
  "language_info": {
   "codemirror_mode": {
    "name": "ipython",
    "version": 3
   },
   "file_extension": ".py",
   "mimetype": "text/x-python",
   "name": "python",
   "nbconvert_exporter": "python",
   "pygments_lexer": "ipython3",
   "version": "3.10.6"
  }
 },
 "nbformat": 4,
 "nbformat_minor": 5
}
