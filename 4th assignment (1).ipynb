{
 "cells": [
  {
   "cell_type": "code",
   "execution_count": null,
   "id": "1446ce13-2b66-4243-8ee0-ee9dd9b2eea2",
   "metadata": {},
   "outputs": [],
   "source": []
  },
  {
   "cell_type": "code",
   "execution_count": 15,
   "id": "55548740-c264-4907-820f-f041d71a3410",
   "metadata": {},
   "outputs": [
    {
     "name": "stdin",
     "output_type": "stream",
     "text": [
      " 6\n"
     ]
    },
    {
     "name": "stdout",
     "output_type": "stream",
     "text": [
      "6 * 1 = 6\n",
      "6 * 2 = 12\n",
      "6 * 3 = 18\n",
      "6 * 4 = 24\n",
      "6 * 5 = 30\n",
      "6 * 6 = 36\n",
      "6 * 7 = 42\n",
      "6 * 8 = 48\n",
      "6 * 9 = 54\n",
      "6 * 10 = 60\n",
      "6 * 11 = 66\n",
      "6 * 12 = 72\n",
      "6 * 13 = 78\n",
      "6 * 14 = 84\n",
      "6 * 15 = 90\n",
      "6 * 16 = 96\n",
      "6 * 17 = 102\n",
      "6 * 18 = 108\n",
      "6 * 19 = 114\n",
      "6 * 20 = 120\n"
     ]
    }
   ],
   "source": [
    "\n",
    "# MULTIPLICATION TABLE\n",
    "\n",
    "x = int(input())\n",
    "for i in range(1,21):\n",
    "    print(x,'*',i,'=',x*i)"
   ]
  },
  {
   "cell_type": "code",
   "execution_count": 10,
   "id": "d49497ae-7a29-4827-bbc8-d4818b2f617c",
   "metadata": {},
   "outputs": [
    {
     "name": "stdin",
     "output_type": "stream",
     "text": [
      " 5\n"
     ]
    },
    {
     "name": "stdout",
     "output_type": "stream",
     "text": [
      "the factorial is  120\n"
     ]
    }
   ],
   "source": [
    "#FACTORIAL OF A NUMBER\n",
    "\n",
    "a = int(input())\n",
    "fact = 1\n",
    "if a == 0:\n",
    "    print(\"the factorial is 1\")\n",
    "elif a > 0:\n",
    "    for i in range(1,a +1):\n",
    "        fact = fact*i\n",
    "    print(\"the factorial is \" , fact)\n",
    "else:\n",
    "    print(\"not  exist\")"
   ]
  },
  {
   "cell_type": "code",
   "execution_count": 22,
   "id": "73cdb05d-655b-4400-b9df-35359b46a10b",
   "metadata": {},
   "outputs": [
    {
     "name": "stdin",
     "output_type": "stream",
     "text": [
      " 6\n"
     ]
    },
    {
     "name": "stdout",
     "output_type": "stream",
     "text": [
      "0\n",
      "1\n",
      "1\n",
      "2\n",
      "3\n",
      "5\n"
     ]
    }
   ],
   "source": [
    "# FIBONACCI SEQUENCE\n",
    "\n",
    "fib = int(input())\n",
    "a = 0\n",
    "b = 1\n",
    "count = 0\n",
    "if fib <= 0:\n",
    "    print(\"invalid\")\n",
    "elif fib == 1:\n",
    "    print(a)\n",
    "else:\n",
    "    while count < fib:\n",
    "        print(a)\n",
    "        n = a+b\n",
    "        a = b\n",
    "        b = n\n",
    "        count += 1\n"
   ]
  },
  {
   "cell_type": "code",
   "execution_count": 8,
   "id": "081c2ab1-2645-47eb-826f-863349458c3a",
   "metadata": {},
   "outputs": [
    {
     "name": "stdin",
     "output_type": "stream",
     "text": [
      " 153\n"
     ]
    },
    {
     "name": "stdout",
     "output_type": "stream",
     "text": [
      "153 is an Armstrong number\n"
     ]
    }
   ],
   "source": [
    "# ARMSTRONG NUMBER\n",
    "\n",
    "\n",
    "Num = int(input())\n",
    "order = len(str(Num))\n",
    "sum = 0\n",
    "temp = Num\n",
    "while temp > 0:\n",
    "   digit = temp % 10\n",
    "   sum += digit ** order\n",
    "   temp //= 10\n",
    "if Num == sum:\n",
    "   print(Num,\"is an Armstrong number\")\n",
    "else:\n",
    "   print(Num,\"is not an Armstrong number\")"
   ]
  },
  {
   "cell_type": "code",
   "execution_count": 14,
   "id": "dad947b5-e5dd-4346-aeb4-02ca7ce52476",
   "metadata": {},
   "outputs": [
    {
     "name": "stdin",
     "output_type": "stream",
     "text": [
      " 3\n"
     ]
    },
    {
     "name": "stdout",
     "output_type": "stream",
     "text": [
      "6\n"
     ]
    }
   ],
   "source": [
    "#SUM OF NATURAL NUMBERS\n",
    "\n",
    "A = int(input())\n",
    "\n",
    "if A < 0:\n",
    "    print(\"invalid\")\n",
    "else:\n",
    "    sum = 0\n",
    "    while(A>0):\n",
    "        sum += A\n",
    "        A -= 1\n",
    "    print(sum)\n",
    "    "
   ]
  },
  {
   "cell_type": "code",
   "execution_count": null,
   "id": "b7c92b9e-d1cf-49c6-a299-61ebf64e870b",
   "metadata": {},
   "outputs": [],
   "source": []
  }
 ],
 "metadata": {
  "kernelspec": {
   "display_name": "Python 3 (ipykernel)",
   "language": "python",
   "name": "python3"
  },
  "language_info": {
   "codemirror_mode": {
    "name": "ipython",
    "version": 3
   },
   "file_extension": ".py",
   "mimetype": "text/x-python",
   "name": "python",
   "nbconvert_exporter": "python",
   "pygments_lexer": "ipython3",
   "version": "3.10.6"
  }
 },
 "nbformat": 4,
 "nbformat_minor": 5
}
