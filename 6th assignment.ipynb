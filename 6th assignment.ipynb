{
 "cells": [
  {
   "cell_type": "code",
   "execution_count": 2,
   "id": "24347cd7-c8c3-4b89-86e6-144cb5fcce22",
   "metadata": {},
   "outputs": [
    {
     "name": "stdin",
     "output_type": "stream",
     "text": [
      "enter height in m 1.78\n",
      "enter weight in kg 74\n"
     ]
    },
    {
     "name": "stdout",
     "output_type": "stream",
     "text": [
      "BMI is  23.355636914530994\n"
     ]
    }
   ],
   "source": [
    "# BMI\n",
    "\n",
    "height = float(input(\"enter height in m\"))\n",
    "weight = float(input(\"enter weight in kg\"))\n",
    "height = height * height\n",
    "BMI = weight/height\n",
    "print(\"BMI is \", BMI)\n"
   ]
  },
  {
   "cell_type": "code",
   "execution_count": 4,
   "id": "99ea72ef-647b-4afb-b958-4e00edd79bb5",
   "metadata": {},
   "outputs": [
    {
     "name": "stdin",
     "output_type": "stream",
     "text": [
      "enter a number to find log 10\n"
     ]
    },
    {
     "name": "stdout",
     "output_type": "stream",
     "text": [
      "2.302585092994046\n"
     ]
    }
   ],
   "source": [
    "# natural log\n",
    "\n",
    "import math\n",
    "a = float(input(\"enter a number to find log\"))\n",
    "print(math.log(a))\n"
   ]
  },
  {
   "cell_type": "code",
   "execution_count": 21,
   "id": "62a1d9c2-96e5-45c6-bc70-4719b092623f",
   "metadata": {},
   "outputs": [
    {
     "name": "stdin",
     "output_type": "stream",
     "text": [
      " 5\n"
     ]
    },
    {
     "name": "stdout",
     "output_type": "stream",
     "text": [
      "225\n"
     ]
    }
   ],
   "source": [
    "# cube sum\n",
    "\n",
    "a = int(input())\n",
    "\n",
    "if a == 0:\n",
    "    print(a)\n",
    "elif a < 0:\n",
    "    print(\"enter number greater than zero\")\n",
    "else:\n",
    "    sum = 0\n",
    "    for i in range(1 , a+1):\n",
    "        sum += i*i*i\n",
    "    print(sum)"
   ]
  },
  {
   "cell_type": "code",
   "execution_count": 10,
   "id": "c4d62e1c-9bbe-4802-90c6-ceab99332514",
   "metadata": {},
   "outputs": [
    {
     "name": "stdin",
     "output_type": "stream",
     "text": [
      " 5\n"
     ]
    },
    {
     "name": "stdout",
     "output_type": "stream",
     "text": [
      "the factorial is  120\n"
     ]
    }
   ],
   "source": [
    "#FACTORIAL OF A NUMBER\n",
    "\n",
    "a = int(input())\n",
    "fact = 1\n",
    "if a == 0:\n",
    "    print(\"the factorial is 1\")\n",
    "elif a > 0:\n",
    "    for i in range(1,a +1):\n",
    "        fact = fact*i\n",
    "    print(\"the factorial is \" , fact)\n",
    "else:\n",
    "    print(\"not  exist\")"
   ]
  }
 ],
 "metadata": {
  "kernelspec": {
   "display_name": "Python 3 (ipykernel)",
   "language": "python",
   "name": "python3"
  },
  "language_info": {
   "codemirror_mode": {
    "name": "ipython",
    "version": 3
   },
   "file_extension": ".py",
   "mimetype": "text/x-python",
   "name": "python",
   "nbconvert_exporter": "python",
   "pygments_lexer": "ipython3",
   "version": "3.10.6"
  }
 },
 "nbformat": 4,
 "nbformat_minor": 5
}
