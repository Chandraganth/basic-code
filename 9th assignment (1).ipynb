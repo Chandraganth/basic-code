{
 "cells": [
  {
   "cell_type": "code",
   "execution_count": 2,
   "id": "3f7112ef-485b-471b-9907-906555e411b6",
   "metadata": {},
   "outputs": [
    {
     "name": "stdin",
     "output_type": "stream",
     "text": [
      "Enter a Number:  10\n"
     ]
    },
    {
     "name": "stdout",
     "output_type": "stream",
     "text": [
      "10 is a Not Disarium Number\n"
     ]
    },
    {
     "name": "stdin",
     "output_type": "stream",
     "text": [
      "Enter a Number:  6\n"
     ]
    },
    {
     "name": "stdout",
     "output_type": "stream",
     "text": [
      "6 is a Disarium Number\n"
     ]
    }
   ],
   "source": [
    "#1.Write a Python Program to check if the given number is a Disarium Number ?\n",
    "\n",
    "def DisariumNumber():\n",
    "    num = input('Enter a Number: ')\n",
    "    sum = 0\n",
    "    for i in range(len(num)):\n",
    "        sum = sum + int(num[i])**(i+1)\n",
    "    if sum == int(num):\n",
    "        print(f'{num} is a Disarium Number')\n",
    "    else:\n",
    "        print(f'{num} is a Not Disarium Number') \n",
    "\n",
    "DisariumNumber()\n",
    "DisariumNumber()"
   ]
  },
  {
   "cell_type": "code",
   "execution_count": 5,
   "id": "bcd3541c-87f7-4e94-af28-ebabdf4334fe",
   "metadata": {},
   "outputs": [
    {
     "data": {
      "text/plain": [
       "[1, 2, 3, 4, 5, 6, 7, 8, 9, 89]"
      ]
     },
     "execution_count": 5,
     "metadata": {},
     "output_type": "execute_result"
    }
   ],
   "source": [
    "#2.\n",
    "\n",
    "def printDisariumNumber(start=0,end=100):\n",
    "    num = []\n",
    "    for number in range(start,end+1):\n",
    "        sum = 0\n",
    "        for i in range(len(str(number))):\n",
    "            sum = sum + int(str(number)[i])**(i+1)\n",
    "        if sum == number:\n",
    "            num.append(number)\n",
    "    return num\n",
    "            \n",
    "        \n",
    "printDisariumNumber(1,100)"
   ]
  },
  {
   "cell_type": "code",
   "execution_count": 7,
   "id": "bebdaca9-5564-4b39-80e3-c0f1b928c7b0",
   "metadata": {},
   "outputs": [
    {
     "name": "stdin",
     "output_type": "stream",
     "text": [
      "Enter a Number:  5\n"
     ]
    },
    {
     "name": "stdout",
     "output_type": "stream",
     "text": [
      "5 is a Harshad Number\n"
     ]
    }
   ],
   "source": [
    "#3.\n",
    "\n",
    "def HarshadNumber():\n",
    "    num = input('Enter a Number: ')\n",
    "    sum = 0\n",
    "    for i in range(len(num)):\n",
    "        sum = sum + int(num[i])\n",
    "    if int(num)%sum == 0:\n",
    "        print(f'{num} is a Harshad Number')\n",
    "    else:\n",
    "        print(f'{num} is a Not Harshad Number')\n",
    "        \n",
    "HarshadNumber()"
   ]
  },
  {
   "cell_type": "code",
   "execution_count": 8,
   "id": "10bcda6e-6b2d-4581-bed5-0e00716bc792",
   "metadata": {},
   "outputs": [
    {
     "name": "stdout",
     "output_type": "stream",
     "text": [
      "[0, 2, 6, 12, 20, 30, 42, 56, 72, 90, 110, 132, 156, 182, 210, 240, 272, 306, 342, 380, 420, 462, 506, 552, 600, 650, 702, 756, 812, 870, 930, 992, 1056, 1122, 1190, 1260, 1332, 1406, 1482, 1560, 1640, 1722, 1806, 1892, 1980, 2070, 2162, 2256, 2352, 2450, 2550, 2652, 2756, 2862, 2970, 3080, 3192, 3306, 3422, 3540, 3660, 3782, 3906, 4032, 4160, 4290, 4422, 4556, 4692, 4830, 4970, 5112, 5256, 5402, 5550, 5700, 5852, 6006, 6162, 6320, 6480, 6642, 6806, 6972, 7140, 7310, 7482, 7656, 7832, 8010, 8190, 8372, 8556, 8742, 8930, 9120, 9312, 9506, 9702, 9900, 10100]\n"
     ]
    }
   ],
   "source": [
    "#Write a Python Program to print all pronic numbers between 1 and 100 ?\n",
    "\n",
    "def PronicNumbers(start=0,end=100):\n",
    "    List = []\n",
    "    for i in range(start,end+1):\n",
    "        List.append((i)*(i+1))\n",
    "    print(List)\n",
    "                   \n",
    "PronicNumbers()"
   ]
  },
  {
   "cell_type": "code",
   "execution_count": null,
   "id": "9ccceae6-2df4-4aa4-8a1b-90a19ccc35d1",
   "metadata": {},
   "outputs": [],
   "source": []
  }
 ],
 "metadata": {
  "kernelspec": {
   "display_name": "Python 3 (ipykernel)",
   "language": "python",
   "name": "python3"
  },
  "language_info": {
   "codemirror_mode": {
    "name": "ipython",
    "version": 3
   },
   "file_extension": ".py",
   "mimetype": "text/x-python",
   "name": "python",
   "nbconvert_exporter": "python",
   "pygments_lexer": "ipython3",
   "version": "3.10.6"
  }
 },
 "nbformat": 4,
 "nbformat_minor": 5
}
