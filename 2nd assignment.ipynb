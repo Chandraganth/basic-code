{
 "cells": [
  {
   "cell_type": "code",
   "execution_count": 2,
   "id": "be66bbe0-5c12-480a-9b96-da8a3836f573",
   "metadata": {},
   "outputs": [
    {
     "name": "stdin",
     "output_type": "stream",
     "text": [
      " 10\n"
     ]
    },
    {
     "name": "stdout",
     "output_type": "stream",
     "text": [
      "6.2139999999999995 mile\n"
     ]
    }
   ],
   "source": [
    "# KM TO MILES\n",
    "\n",
    "a = int(input())\n",
    "miles = a*0.6214\n",
    "print(miles,\"mile\")"
   ]
  },
  {
   "cell_type": "code",
   "execution_count": 4,
   "id": "a8bd8361-46fb-4332-9ae0-08daffc9bca2",
   "metadata": {},
   "outputs": [
    {
     "name": "stdin",
     "output_type": "stream",
     "text": [
      " 0\n"
     ]
    },
    {
     "name": "stdout",
     "output_type": "stream",
     "text": [
      "32.0 'F\n"
     ]
    }
   ],
   "source": [
    "# CELSIUS TO FAHRENHEIT\n",
    "\n",
    "celsius = int(input())\n",
    "fahrenheit = (celsius*1.8) + 32\n",
    "print(fahrenheit,\"'F\")"
   ]
  },
  {
   "cell_type": "code",
   "execution_count": 10,
   "id": "6064adc3-41d3-49d6-9f3c-dfd09e5d35f2",
   "metadata": {},
   "outputs": [
    {
     "name": "stdin",
     "output_type": "stream",
     "text": [
      "year  2023\n",
      "month  05\n"
     ]
    },
    {
     "name": "stdout",
     "output_type": "stream",
     "text": [
      "      May 2023\n",
      "Mo Tu We Th Fr Sa Su\n",
      " 1  2  3  4  5  6  7\n",
      " 8  9 10 11 12 13 14\n",
      "15 16 17 18 19 20 21\n",
      "22 23 24 25 26 27 28\n",
      "29 30 31\n",
      "\n"
     ]
    }
   ],
   "source": [
    "# DISPLAY CALENDAR\n",
    "\n",
    "\n",
    "import calendar\n",
    " \n",
    "yy = int(input(\"year \"))\n",
    "mm = int(input(\"month \"))\n",
    "print( calendar.month(yy,mm))\n"
   ]
  },
  {
   "cell_type": "code",
   "execution_count": 20,
   "id": "57b5c7cd-f11a-4230-9e85-953c01cb577c",
   "metadata": {},
   "outputs": [
    {
     "name": "stdin",
     "output_type": "stream",
     "text": [
      "a  5\n",
      "b  6\n",
      "c  2\n"
     ]
    },
    {
     "name": "stdout",
     "output_type": "stream",
     "text": [
      "answer -1.0 and -0.2\n"
     ]
    }
   ],
   "source": [
    "#QUAD EQUATION\n",
    "\n",
    "\n",
    "\n",
    "a = float(input(\"a \"))\n",
    "b = float(input(\"b \"))\n",
    "c = float(input(\"c \"))\n",
    "\n",
    "quad_1 =(-b+((b**2)-(4*a*c)))\n",
    "quad_2 =(-b-((b**2)-(4*a*c)))\n",
    "print(\"answer\" , (quad_1/(2*a)) ,\"and\" , (quad_2/(2*a)))\n"
   ]
  },
  {
   "cell_type": "code",
   "execution_count": 22,
   "id": "1a182937-e746-47c9-a8fb-624bb40969ec",
   "metadata": {},
   "outputs": [
    {
     "name": "stdin",
     "output_type": "stream",
     "text": [
      "a  10\n",
      "b  20\n"
     ]
    },
    {
     "name": "stdout",
     "output_type": "stream",
     "text": [
      "a  20.0 b  10.0\n"
     ]
    }
   ],
   "source": [
    "# SWAP VARIABLE\n",
    "\n",
    "a = float(input(\"a \"))\n",
    "b = float(input(\"b \"))\n",
    "a,b = b,a\n",
    "print(\"a \",a,\"b \",b)"
   ]
  },
  {
   "cell_type": "code",
   "execution_count": null,
   "id": "b4098ce5-431a-441d-98ac-0246c58f461a",
   "metadata": {},
   "outputs": [],
   "source": []
  }
 ],
 "metadata": {
  "kernelspec": {
   "display_name": "Python 3 (ipykernel)",
   "language": "python",
   "name": "python3"
  },
  "language_info": {
   "codemirror_mode": {
    "name": "ipython",
    "version": 3
   },
   "file_extension": ".py",
   "mimetype": "text/x-python",
   "name": "python",
   "nbconvert_exporter": "python",
   "pygments_lexer": "ipython3",
   "version": "3.10.6"
  }
 },
 "nbformat": 4,
 "nbformat_minor": 5
}
