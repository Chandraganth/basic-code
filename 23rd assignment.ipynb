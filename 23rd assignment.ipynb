{
 "cells": [
  {
   "cell_type": "code",
   "execution_count": 12,
   "id": "b8993d9a-badf-43fe-b5f5-d4d5ac06e4c9",
   "metadata": {},
   "outputs": [
    {
     "name": "stdout",
     "output_type": "stream",
     "text": [
      "1221  True\n",
      "123456  False\n"
     ]
    }
   ],
   "source": [
    "def sym(a):\n",
    "    if str(a) == str(a)[::-1]:\n",
    "        print(f'{a}  {True}')\n",
    "    else:\n",
    "        print(f'{a}  {False}')\n",
    "\n",
    "sym(1221)\n",
    "sym(123456)"
   ]
  },
  {
   "cell_type": "code",
   "execution_count": 13,
   "id": "1ba45fcc-dd1f-4695-951e-484e02c59554",
   "metadata": {},
   "outputs": [
    {
     "name": "stdout",
     "output_type": "stream",
     "text": [
      "22, 13  286\n"
     ]
    }
   ],
   "source": [
    "def multi(a):\n",
    "    b = a.replace(' ','').split(',')\n",
    "    c = 1\n",
    "    for i in b:\n",
    "        c *= int(i)\n",
    "    print(f'{a}  {c}')\n",
    "    \n",
    "multi(\"22, 13\")"
   ]
  },
  {
   "cell_type": "code",
   "execution_count": 14,
   "id": "c73157b5-9a72-4a66-be75-a41eab885fd7",
   "metadata": {},
   "outputs": [
    {
     "name": "stdout",
     "output_type": "stream",
     "text": [
      "55  2525\n"
     ]
    }
   ],
   "source": [
    "def sd(in_num):\n",
    "    a = [str(int(i)**2) for i in str(in_num)]\n",
    "    b = ''.join(a)\n",
    "    print(f'{in_num}  {int(b)}')\n",
    "\n",
    "sd(55)"
   ]
  },
  {
   "cell_type": "code",
   "execution_count": 15,
   "id": "07528a10-1f5d-4312-ae6d-d352419fbf4d",
   "metadata": {},
   "outputs": [
    {
     "name": "stdout",
     "output_type": "stream",
     "text": [
      "[5, 6, 4, 6, 5, 4]  [4, 5, 6]\n"
     ]
    }
   ],
   "source": [
    "def test(a):\n",
    "    b = sorted(set(a))\n",
    "    print(f'{a}  {b}')\n",
    "    \n",
    "test([5,6,4,6,5,4]) "
   ]
  },
  {
   "cell_type": "code",
   "execution_count": 18,
   "id": "e5abd2f3-e938-4c66-8669-8efb07cf6e78",
   "metadata": {},
   "outputs": [
    {
     "name": "stdout",
     "output_type": "stream",
     "text": [
      "Mean of 90   4\n"
     ]
    }
   ],
   "source": [
    "def mean(a):\n",
    "    x = [int(i) for i in str(a)]\n",
    "    b = sum(x)/len(str(a))\n",
    "    print(f'Mean of {a}   {b:.0f}')\n",
    "    \n",
    "mean(90)"
   ]
  },
  {
   "cell_type": "code",
   "execution_count": null,
   "id": "2ed7df1d-93ed-4671-a0b8-b9f197521da8",
   "metadata": {},
   "outputs": [],
   "source": []
  }
 ],
 "metadata": {
  "kernelspec": {
   "display_name": "Python 3 (ipykernel)",
   "language": "python",
   "name": "python3"
  },
  "language_info": {
   "codemirror_mode": {
    "name": "ipython",
    "version": 3
   },
   "file_extension": ".py",
   "mimetype": "text/x-python",
   "name": "python",
   "nbconvert_exporter": "python",
   "pygments_lexer": "ipython3",
   "version": "3.10.6"
  }
 },
 "nbformat": 4,
 "nbformat_minor": 5
}
