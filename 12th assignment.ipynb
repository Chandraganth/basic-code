{
 "cells": [
  {
   "cell_type": "code",
   "execution_count": 3,
   "id": "21880ecf-891b-4f62-be9c-85f3d3146e70",
   "metadata": {},
   "outputs": [
    {
     "name": "stdout",
     "output_type": "stream",
     "text": [
      "dict_values(['arun', 'gokul', 'madras', 'riv', 'madras', 'trichy', 'trichy'])\n",
      "Unique Values: ['gokul', 'madras', 'trichy', 'riv', 'arun']\n"
     ]
    }
   ],
   "source": [
    "in_dict = {1:'arun',2:'gokul',3:'madras',4:'riv',5:'madras',6:'trichy',7:'trichy'}\n",
    "print(in_dict.values())\n",
    "print(f'Unique Values: {list(set(in_dict.values()))}')"
   ]
  },
  {
   "cell_type": "code",
   "execution_count": 5,
   "id": "67ca6baa-44f9-4fb6-81ca-3f9212eeec47",
   "metadata": {},
   "outputs": [
    {
     "name": "stdout",
     "output_type": "stream",
     "text": [
      "Sum of All items:  760\n"
     ]
    }
   ],
   "source": [
    "#Write a Python program to find the sum of all items in a dictionary?\n",
    "in_dict = {'pen':100,'pencil':120,'fruits':300,'books':40,'bats':200}\n",
    "print('Sum of All items: ',sum(in_dict.values()))"
   ]
  },
  {
   "cell_type": "code",
   "execution_count": 6,
   "id": "d846250d-6189-45c3-8538-e6480f9c4f8f",
   "metadata": {},
   "outputs": [
    {
     "name": "stdout",
     "output_type": "stream",
     "text": [
      "{'firstname': 'chandraganth', 'lastname': ['Rajamohan']}\n"
     ]
    }
   ],
   "source": [
    "#Write a Python program to Merging two Dictionaries?\n",
    "a = {\n",
    "    'firstname':'chandraganth'\n",
    "}\n",
    "b = {\n",
    "    'lastname':['Rajamohan']\n",
    "}\n",
    "a.update(b)\n",
    "print(a)"
   ]
  },
  {
   "cell_type": "code",
   "execution_count": 9,
   "id": "52a94f28-dce1-4d90-9925-1a4990238923",
   "metadata": {},
   "outputs": [
    {
     "data": {
      "text/plain": [
       "{'A': 10,\n",
       " 'B': 20,\n",
       " 'C': 30,\n",
       " 'D': 40,\n",
       " 'E': 50,\n",
       " 'F': 60,\n",
       " 'G': 70,\n",
       " 'H': 80,\n",
       " 'I': 90,\n",
       " 'J': 100}"
      ]
     },
     "execution_count": 9,
     "metadata": {},
     "output_type": "execute_result"
    }
   ],
   "source": [
    "#Write a Python program to convert key-values list to flat dictionary?\n",
    "a = [('A',10),('B',20),('C',30),('D',40),('E',50),('F',60),('G',70),('H',80),('I',90),('J',100)]\n",
    "dict(a)\n"
   ]
  },
  {
   "cell_type": "code",
   "execution_count": 10,
   "id": "800d9e05-f6b9-4b71-b3ea-2dfc1bb1df80",
   "metadata": {},
   "outputs": [
    {
     "name": "stdout",
     "output_type": "stream",
     "text": [
      "{'ball': 22, 'cards': 13, 'nuts': 60, 'pen': 100}\n",
      "{'cards': 13, 'ball': 22, 'nuts': 60, 'pen': 100}\n"
     ]
    }
   ],
   "source": [
    "#Write a Python program to sort Python Dictionaries by Key or Value?\n",
    "a = {'pen':100,'ball':22,'nuts':60,'cards':13}\n",
    "\n",
    "def sort_dict(a,sort_type):\n",
    "    if sort_type == 'key':\n",
    "        print(dict(sorted(a.items(), key=lambda x:x[0], reverse=False)))\n",
    "    else:\n",
    "        print(dict(sorted(a.items(), key=lambda x:x[1], reverse=False)))\n",
    "        \n",
    "sort_dict(a,'key')        \n",
    "sort_dict(a,'value')"
   ]
  },
  {
   "cell_type": "code",
   "execution_count": null,
   "id": "c8b327ef-2852-48ef-b4ae-e0a97240afd6",
   "metadata": {},
   "outputs": [],
   "source": []
  }
 ],
 "metadata": {
  "kernelspec": {
   "display_name": "Python 3 (ipykernel)",
   "language": "python",
   "name": "python3"
  },
  "language_info": {
   "codemirror_mode": {
    "name": "ipython",
    "version": 3
   },
   "file_extension": ".py",
   "mimetype": "text/x-python",
   "name": "python",
   "nbconvert_exporter": "python",
   "pygments_lexer": "ipython3",
   "version": "3.10.6"
  }
 },
 "nbformat": 4,
 "nbformat_minor": 5
}
