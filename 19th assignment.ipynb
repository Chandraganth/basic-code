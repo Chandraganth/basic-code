{
 "cells": [
  {
   "cell_type": "code",
   "execution_count": 1,
   "id": "1c5d21d5-883d-44ee-94b6-79af13ebb1f4",
   "metadata": {},
   "outputs": [
    {
     "name": "stdout",
     "output_type": "stream",
     "text": [
      "➞ aarruunn\n",
      "➞ iinneeuurroonn\n"
     ]
    }
   ],
   "source": [
    "def duo(a):\n",
    "    b = ''\n",
    "    for i in a:\n",
    "        b += i*2\n",
    "    return b\n",
    "\n",
    "print(f'➞ {duo(\"arun\")}')\n",
    "print(f'➞ {duo(\"ineuron\")}')\n",
    "\n"
   ]
  },
  {
   "cell_type": "code",
   "execution_count": 3,
   "id": "0b71ee38-57d7-4582-9695-d5832e9d6497",
   "metadata": {},
   "outputs": [
    {
     "name": "stdout",
     "output_type": "stream",
     "text": [
      "reverse(True) ➞ False\n",
      "reverse(False) ➞ True\n"
     ]
    }
   ],
   "source": [
    "def reverse(a):\n",
    "    if type(a) == bool:\n",
    "        return not a\n",
    "    else:\n",
    "        return \"Boolean Expected\"\n",
    "\n",
    "print(f'reverse(True) ➞ {reverse(True)}')\n",
    "print(f'reverse(False) ➞ {reverse(False)}')\n"
   ]
  },
  {
   "cell_type": "code",
   "execution_count": 4,
   "id": "d0b59ccf-5e86-4c83-88ed-bd0567e17cd4",
   "metadata": {},
   "outputs": [
    {
     "name": "stdout",
     "output_type": "stream",
     "text": [
      "Output ➞ 0.008m\n",
      "Output ➞ 1048.576m\n"
     ]
    }
   ],
   "source": [
    "def layer(a):\n",
    "    b = 0.5\n",
    "    for i in range(a):\n",
    "        b *= 2\n",
    "    print(f'Output ➞ {b/1000}m')\n",
    "    \n",
    "\n",
    "layer(4)\n",
    "layer(21)"
   ]
  },
  {
   "cell_type": "code",
   "execution_count": 6,
   "id": "4c0b0ded-deb0-4962-a233-e09e34b8bce7",
   "metadata": {},
   "outputs": [
    {
     "name": "stdout",
     "output_type": "stream",
     "text": [
      "Output ➞ [2, 4, 6, 8, 10]\n"
     ]
    }
   ],
   "source": [
    "def evennum(a):\n",
    "    b = [i for i in range(1,a+1) if i%2 == 0]\n",
    "    print(f'Output ➞ {b}')\n",
    "    \n",
    "evennum(10)"
   ]
  },
  {
   "cell_type": "code",
   "execution_count": null,
   "id": "2c5ccd08-a3c4-49e3-8e52-df8f0dd91852",
   "metadata": {},
   "outputs": [],
   "source": []
  }
 ],
 "metadata": {
  "kernelspec": {
   "display_name": "Python 3 (ipykernel)",
   "language": "python",
   "name": "python3"
  },
  "language_info": {
   "codemirror_mode": {
    "name": "ipython",
    "version": 3
   },
   "file_extension": ".py",
   "mimetype": "text/x-python",
   "name": "python",
   "nbconvert_exporter": "python",
   "pygments_lexer": "ipython3",
   "version": "3.10.6"
  }
 },
 "nbformat": 4,
 "nbformat_minor": 5
}
