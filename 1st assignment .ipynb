{
 "cells": [
  {
   "cell_type": "code",
   "execution_count": 1,
   "id": "253f6076-9b2b-4b7f-ab2f-2294a776d4b8",
   "metadata": {},
   "outputs": [
    {
     "name": "stdout",
     "output_type": "stream",
     "text": [
      "Hello Python\n"
     ]
    }
   ],
   "source": [
    "# PRINT HELLO PYTHON\n",
    "\n",
    "\n",
    "a = \"Hello Python\"\n",
    "print(a)"
   ]
  },
  {
   "cell_type": "code",
   "execution_count": 3,
   "id": "6c502d09-a69c-4c38-95f8-5a30de2c30c5",
   "metadata": {},
   "outputs": [
    {
     "name": "stdin",
     "output_type": "stream",
     "text": [
      " 52\n",
      " 44\n"
     ]
    },
    {
     "name": "stdout",
     "output_type": "stream",
     "text": [
      "addition 96\n",
      "sub 8\n"
     ]
    }
   ],
   "source": [
    "# add and sub\n",
    "\n",
    "\n",
    "a = int(input())\n",
    "b = int(input())\n",
    "print(\"addition\",a+b)\n",
    "print(\"sub\",a-b)\n"
   ]
  },
  {
   "cell_type": "code",
   "execution_count": 4,
   "id": "b5bbb896-2d89-44e6-ab16-8b7fd2061d4b",
   "metadata": {},
   "outputs": [
    {
     "name": "stdin",
     "output_type": "stream",
     "text": [
      " 5\n",
      " 10\n"
     ]
    },
    {
     "name": "stdout",
     "output_type": "stream",
     "text": [
      "area of  triangle =  25.0\n"
     ]
    }
   ],
   "source": [
    "# area of triangle\n",
    "\n",
    "\n",
    "b = int(input())\n",
    "h = int(input())\n",
    "area = 0.5*b*h\n",
    "print(\"area of  triangle = \" , area)"
   ]
  },
  {
   "cell_type": "code",
   "execution_count": 1,
   "id": "9f78c3a6-b15a-40d8-a8eb-9416bac1c7c7",
   "metadata": {},
   "outputs": [
    {
     "name": "stdout",
     "output_type": "stream",
     "text": [
      "5 10\n"
     ]
    }
   ],
   "source": [
    "# swap  2 variables\n",
    "\n",
    "\n",
    "a = 10\n",
    "b = 5\n",
    "a,b = b,a\n",
    "print(a,b)"
   ]
  },
  {
   "cell_type": "code",
   "execution_count": 8,
   "id": "d3611ea3-0167-4339-a741-78a22ad21023",
   "metadata": {},
   "outputs": [
    {
     "name": "stdout",
     "output_type": "stream",
     "text": [
      "953\n"
     ]
    }
   ],
   "source": [
    "# generate random variable\n",
    "\n",
    "import random\n",
    "\n",
    "print(random.randint(1,1000))"
   ]
  },
  {
   "cell_type": "code",
   "execution_count": null,
   "id": "6ea247a8-b2a1-4e81-b49b-5ffd964b2b02",
   "metadata": {},
   "outputs": [],
   "source": []
  }
 ],
 "metadata": {
  "kernelspec": {
   "display_name": "Python 3 (ipykernel)",
   "language": "python",
   "name": "python3"
  },
  "language_info": {
   "codemirror_mode": {
    "name": "ipython",
    "version": 3
   },
   "file_extension": ".py",
   "mimetype": "text/x-python",
   "name": "python",
   "nbconvert_exporter": "python",
   "pygments_lexer": "ipython3",
   "version": "3.10.6"
  }
 },
 "nbformat": 4,
 "nbformat_minor": 5
}
