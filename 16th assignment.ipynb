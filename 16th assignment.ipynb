{
 "cells": [
  {
   "cell_type": "code",
   "execution_count": 3,
   "id": "740aaaf3-aa04-4b85-9354-a05348f6a4f3",
   "metadata": {},
   "outputs": [
    {
     "name": "stdin",
     "output_type": "stream",
     "text": [
      "Enter the Word : bro\n"
     ]
    },
    {
     "name": "stdout",
     "output_type": "stream",
     "text": [
      "bro ➞ br... br... bro?\n"
     ]
    },
    {
     "name": "stdin",
     "output_type": "stream",
     "text": [
      "Enter the Word : hello\n"
     ]
    },
    {
     "name": "stdout",
     "output_type": "stream",
     "text": [
      "hello ➞ he... he... hello?\n"
     ]
    }
   ],
   "source": [
    "def stutterWord():\n",
    "    a = input('Enter the Word :')\n",
    "    b = a.replace(a[0:2],((a[0:2]+'... ')*2)+ a[0:2])  +'?'\n",
    "    print(f'{a} ➞ {b}')\n",
    "\n",
    "for i in range(2):\n",
    "    stutterWord()"
   ]
  },
  {
   "cell_type": "code",
   "execution_count": 5,
   "id": "9adf8c25-afa6-42a1-991a-baed2d452f0a",
   "metadata": {},
   "outputs": [
    {
     "name": "stdin",
     "output_type": "stream",
     "text": [
      "Enter the angle in Radians:  2\n"
     ]
    },
    {
     "name": "stdout",
     "output_type": "stream",
     "text": [
      "2 radian(s) ➞ 114.6 degrees\n"
     ]
    }
   ],
   "source": [
    "import math\n",
    "def radian_Degree():\n",
    "    a = int(input('Enter the angle in Radians: '))\n",
    "    b = (180/math.pi)*a\n",
    "    print(f'{a} radian(s) ➞ {b:.1f} degrees')\n",
    "\n",
    "for x in range(1):\n",
    "    radian_Degree()"
   ]
  },
  {
   "cell_type": "code",
   "execution_count": 6,
   "id": "8cb7cb08-0271-47e2-9dcb-f89e2b2ed7f2",
   "metadata": {},
   "outputs": [
    {
     "name": "stdin",
     "output_type": "stream",
     "text": [
      "Enter the side length of a Hexagon:  20\n"
     ]
    },
    {
     "name": "stdout",
     "output_type": "stream",
     "text": [
      "Area for Hexagon of sidelength 20 ➞ 1039.2\n"
     ]
    }
   ],
   "source": [
    "import math\n",
    "def areaOfHexagon():\n",
    "    a = int(input('Enter the side length of a Hexagon: '))\n",
    "    b = ((3*math.sqrt(3))/2)*(pow(a,2))\n",
    "    print(f'Area for Hexagon of sidelength {a} ➞ {b:.1f}')\n",
    "    \n",
    "for x in range(1):\n",
    "    areaOfHexagon()"
   ]
  },
  {
   "cell_type": "code",
   "execution_count": 7,
   "id": "086c3e5d-11c0-40ef-a2fb-148daf4706e5",
   "metadata": {},
   "outputs": [
    {
     "name": "stdin",
     "output_type": "stream",
     "text": [
      "Enter a Number:  1\n"
     ]
    },
    {
     "name": "stdout",
     "output_type": "stream",
     "text": [
      "Binary of 1 ➞ 1\n"
     ]
    },
    {
     "name": "stdin",
     "output_type": "stream",
     "text": [
      "Enter a Number:  2\n"
     ]
    },
    {
     "name": "stdout",
     "output_type": "stream",
     "text": [
      "Binary of 2 ➞ 10\n"
     ]
    },
    {
     "name": "stdin",
     "output_type": "stream",
     "text": [
      "Enter a Number:  3\n"
     ]
    },
    {
     "name": "stdout",
     "output_type": "stream",
     "text": [
      "Binary of 3 ➞ 11\n"
     ]
    }
   ],
   "source": [
    "def getbinary():\n",
    "    a = int(input(\"Enter a Number: \"))\n",
    "    b = bin(a).replace('0b','') \n",
    "    print(f'Binary of {a} ➞ {b}')\n",
    "\n",
    "for x in range(3):\n",
    "    getbinary()"
   ]
  },
  {
   "cell_type": "code",
   "execution_count": null,
   "id": "21e444c6-60c3-4a3c-8bce-3036b5016930",
   "metadata": {},
   "outputs": [],
   "source": []
  }
 ],
 "metadata": {
  "kernelspec": {
   "display_name": "Python 3 (ipykernel)",
   "language": "python",
   "name": "python3"
  },
  "language_info": {
   "codemirror_mode": {
    "name": "ipython",
    "version": 3
   },
   "file_extension": ".py",
   "mimetype": "text/x-python",
   "name": "python",
   "nbconvert_exporter": "python",
   "pygments_lexer": "ipython3",
   "version": "3.10.6"
  }
 },
 "nbformat": 4,
 "nbformat_minor": 5
}
