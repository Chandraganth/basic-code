{
 "cells": [
  {
   "cell_type": "code",
   "execution_count": 10,
   "id": "a6f103ad-5658-4153-8175-a51f6f499cb6",
   "metadata": {},
   "outputs": [
    {
     "name": "stdout",
     "output_type": "stream",
     "text": [
      "(1, 10, 20) ➞ 0\n",
      "(1, 10, 2) ➞ 30\n"
     ]
    }
   ],
   "source": [
    "def evendiv(a,b,c):\n",
    "    divList = []\n",
    "    for i in range(a,b+1):\n",
    "        if i%c == 0:\n",
    "            divList.append(i)\n",
    "    print(f'{a,b,c} ➞ {sum(divList)}')\n",
    "\n",
    "evendiv(1,10,20)\n",
    "evendiv(1,10,2)\n"
   ]
  },
  {
   "cell_type": "code",
   "execution_count": 13,
   "id": "1a446880-dc4e-4df8-8367-2ccdcad7276a",
   "metadata": {},
   "outputs": [
    {
     "name": "stdin",
     "output_type": "stream",
     "text": [
      "Enter the inequality:  5<10\n"
     ]
    },
    {
     "name": "stdout",
     "output_type": "stream",
     "text": [
      "5<10 ➞ True\n"
     ]
    }
   ],
   "source": [
    "def checkEquality():\n",
    "    a = input('Enter the inequality: ')\n",
    "    b = eval(a)\n",
    "    print(f'{a} ➞ {b}')\n",
    "\n",
    "for x in range(1):\n",
    "    checkEquality()"
   ]
  },
  {
   "cell_type": "code",
   "execution_count": 14,
   "id": "3e39609f-b99f-4128-ad30-9564113eec24",
   "metadata": {},
   "outputs": [
    {
     "name": "stdin",
     "output_type": "stream",
     "text": [
      "String:  dshetjanbers\n",
      "Replacement character:  000\n"
     ]
    },
    {
     "name": "stdout",
     "output_type": "stream",
     "text": [
      "dshetjanbers 000 ➞ dsh000tj000nb000rs\n"
     ]
    }
   ],
   "source": [
    "def replaceVowels():\n",
    "    vowels = ['a','e','i','o','u','A','E','I','O','U']\n",
    "    a = input(\"String: \")\n",
    "    a_copy = a\n",
    "    in_char = input('Replacement character: ')\n",
    "    for i in a:\n",
    "        if i in vowels:\n",
    "            a = a.replace(i,in_char)\n",
    "    print(f'{a_copy} {in_char} ➞ {a}')\n",
    "            \n",
    "for x in range(1):\n",
    "    replaceVowels()"
   ]
  },
  {
   "cell_type": "code",
   "execution_count": 16,
   "id": "bafdd7e7-0c4b-4bb0-a10b-a07d80c58802",
   "metadata": {},
   "outputs": [
    {
     "name": "stdout",
     "output_type": "stream",
     "text": [
      "factorial(5) 120\n",
      "factorial(0)  1\n"
     ]
    }
   ],
   "source": [
    "def factorial(n):\n",
    "    if n==0:\n",
    "        return 1\n",
    "    return n * factorial(n-1)\n",
    "\n",
    "print(f'factorial(5) {factorial(5)}')\n",
    "print(f'factorial(0)  {factorial(0)}')"
   ]
  },
  {
   "cell_type": "code",
   "execution_count": null,
   "id": "6f573d2b-b538-40c4-abd4-a888e0583a36",
   "metadata": {},
   "outputs": [],
   "source": []
  }
 ],
 "metadata": {
  "kernelspec": {
   "display_name": "Python 3 (ipykernel)",
   "language": "python",
   "name": "python3"
  },
  "language_info": {
   "codemirror_mode": {
    "name": "ipython",
    "version": 3
   },
   "file_extension": ".py",
   "mimetype": "text/x-python",
   "name": "python",
   "nbconvert_exporter": "python",
   "pygments_lexer": "ipython3",
   "version": "3.10.6"
  }
 },
 "nbformat": 4,
 "nbformat_minor": 5
}
