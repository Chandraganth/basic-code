{
 "cells": [
  {
   "cell_type": "code",
   "execution_count": 1,
   "id": "0e5083f2-f6e4-4dfc-b8ba-174034e421ce",
   "metadata": {},
   "outputs": [
    {
     "data": {
      "text/plain": [
       "'1. Write a Python Program to find sum of array?\\n2. Write a Python Program to find largest element in an array?\\n3. Write a Python Program for array rotation?\\n4. Write a Python Program to Split the array and add the first part to the end?\\n5. Write a Python Program to check if given array is Monotonic?'"
      ]
     },
     "execution_count": 1,
     "metadata": {},
     "output_type": "execute_result"
    }
   ],
   "source": [
    "\"\"\"1. Write a Python Program to find sum of array?\n",
    "2. Write a Python Program to find largest element in an array?\n",
    "3. Write a Python Program for array rotation?\n",
    "4. Write a Python Program to Split the array and add the first part to the end?\n",
    "5. Write a Python Program to check if given array is Monotonic?\"\"\""
   ]
  },
  {
   "cell_type": "code",
   "execution_count": 3,
   "id": "bd72a0b4-b5e3-452d-8ef6-c4dd100d432a",
   "metadata": {},
   "outputs": [
    {
     "name": "stdout",
     "output_type": "stream",
     "text": [
      "28\n"
     ]
    }
   ],
   "source": [
    "#1.\n",
    "\n",
    "sumarray = 0\n",
    "array = [6,9,2,5,6]\n",
    "for i in range (0 ,len(array)):\n",
    "    sumarray += array[i]\n",
    "print(sumarray)"
   ]
  },
  {
   "cell_type": "code",
   "execution_count": 11,
   "id": "f917970b-ea38-4e24-9ee4-f154ca5d2018",
   "metadata": {},
   "outputs": [
    {
     "name": "stdout",
     "output_type": "stream",
     "text": [
      "largest element in [3, 5, 6, 90, 110] is 110\n"
     ]
    }
   ],
   "source": [
    "#2.\n",
    "\n",
    "a = 0\n",
    "array = [3,5,6,90,110]\n",
    "for i in range (0 ,len(array)):\n",
    "    if a > array[i]:\n",
    "        print(a)\n",
    "    else:\n",
    "        a = array[i]\n",
    "print(\"largest element in {} is {}\".format(array,a))\n"
   ]
  },
  {
   "cell_type": "code",
   "execution_count": 13,
   "id": "08099345-004d-4463-a642-9f32e6981f68",
   "metadata": {},
   "outputs": [
    {
     "name": "stdout",
     "output_type": "stream",
     "text": [
      "9\n",
      "6\n",
      "3\n",
      "2\n"
     ]
    }
   ],
   "source": [
    "#3.\n",
    "\n",
    "a = [1,2,3,6,9]\n",
    "l = len(a)-1\n",
    "for i in range(l,0,-1):\n",
    "    print(a[i])"
   ]
  },
  {
   "cell_type": "code",
   "execution_count": 14,
   "id": "37252e1d-b695-4417-b019-d69ccbe70421",
   "metadata": {},
   "outputs": [
    {
     "name": "stdin",
     "output_type": "stream",
     "text": [
      "Enter the lenth of your list :  5\n",
      " 5\n",
      " 5\n",
      " 9\n",
      " 5\n",
      " 6\n"
     ]
    },
    {
     "name": "stdout",
     "output_type": "stream",
     "text": [
      "The List is  [5, 5, 9, 5, 6]\n",
      "Not Monotonic\n"
     ]
    }
   ],
   "source": [
    "# momtonic\n",
    "\n",
    "l = int(input(\"Enter the lenth of your list : \"))\n",
    "array = []\n",
    "\n",
    "for i in range(l):\n",
    "    array.append(int(input()))\n",
    "print(\"The List is \",array)\n",
    "\n",
    "if all((array[i] <= array[i+1] for i in range(l-1)) or (array[i] >= lst[i+1] for i in range(l-1))):\n",
    "    print(\"Monotonic\")\n",
    "else:\n",
    "    print(\"Not Monotonic\")"
   ]
  },
  {
   "cell_type": "code",
   "execution_count": null,
   "id": "6f04f484-48d9-410a-b71c-74d8fbb0f4fd",
   "metadata": {},
   "outputs": [],
   "source": []
  }
 ],
 "metadata": {
  "kernelspec": {
   "display_name": "Python 3 (ipykernel)",
   "language": "python",
   "name": "python3"
  },
  "language_info": {
   "codemirror_mode": {
    "name": "ipython",
    "version": 3
   },
   "file_extension": ".py",
   "mimetype": "text/x-python",
   "name": "python",
   "nbconvert_exporter": "python",
   "pygments_lexer": "ipython3",
   "version": "3.10.6"
  }
 },
 "nbformat": 4,
 "nbformat_minor": 5
}
