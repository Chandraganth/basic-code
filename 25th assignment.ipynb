{
 "cells": [
  {
   "cell_type": "code",
   "execution_count": 3,
   "id": "12681ca0-ca27-4068-b078-0b397560ef59",
   "metadata": {},
   "outputs": [
    {
     "name": "stdout",
     "output_type": "stream",
     "text": [
      "(1, 1, 1)  3\n"
     ]
    }
   ],
   "source": [
    "def equal(a,b,c):\n",
    "    if a==b==c:\n",
    "        print(f'{a,b,c}  {3}')\n",
    "    elif a==b or b==c or c==a:\n",
    "        print(f'{a,b,c}  {2}')\n",
    "    else:\n",
    "        print(f'{a,b,c}  {0}')\n",
    "\n",
    "equal(1, 1, 1)"
   ]
  },
  {
   "cell_type": "code",
   "execution_count": 6,
   "id": "d9af03d2-b543-4aab-9bb8-c609c378fb49",
   "metadata": {},
   "outputs": [
    {
     "name": "stdout",
     "output_type": "stream",
     "text": [
      "{'bat': 'cricket', 'hoop': 'basketball', 'cork': 'badminton'}  [('bat', 'cricket'), ('hoop', 'basketball'), ('cork', 'badminton')]\n"
     ]
    }
   ],
   "source": [
    "def diclist(a):\n",
    "    b = []\n",
    "    for keys,values in a.items():\n",
    "        b.append((keys,values))\n",
    "    print(f'{a}  {b}')\n",
    "                   \n",
    "diclist({\"bat\": \"cricket\",\"hoop\": \"basketball\",\"cork\": \"badminton\"})\n"
   ]
  },
  {
   "cell_type": "code",
   "execution_count": 8,
   "id": "ffb78515-45da-46da-aa68-4492e275755e",
   "metadata": {},
   "outputs": [
    {
     "name": "stdout",
     "output_type": "stream",
     "text": [
      "['A', 'b']  {'A': 'A', 'b': 'B'}\n"
     ]
    }
   ],
   "source": [
    "def mapping(a):\n",
    "    b = {}\n",
    "    for i in a:\n",
    "        b[i] = i.upper()\n",
    "    print(f'{a}  {b}')\n",
    "    \n",
    "mapping([\"A\", \"b\"])"
   ]
  },
  {
   "cell_type": "code",
   "execution_count": 12,
   "id": "72ae6b91-2cdb-422e-a725-d2a0050c73fd",
   "metadata": {},
   "outputs": [
    {
     "name": "stdout",
     "output_type": "stream",
     "text": [
      "all is well  ull us wull\n"
     ]
    }
   ],
   "source": [
    "def vowel(a,vowchar):\n",
    "    vowels = ['a','e','i','o','u']\n",
    "    b = ''\n",
    "    for i in a:\n",
    "        if i in vowels:\n",
    "            b += vowchar\n",
    "        else:\n",
    "            b += i\n",
    "    print(f'{a}  {b}')\n",
    "        \n",
    "vowel(\"all is well\", \"u\")"
   ]
  },
  {
   "cell_type": "code",
   "execution_count": 16,
   "id": "4c18b8d9-7944-4d13-9958-588c8f87c3b5",
   "metadata": {},
   "outputs": [
    {
     "name": "stdout",
     "output_type": "stream",
     "text": [
      "hi man  Hi maN\n"
     ]
    }
   ],
   "source": [
    "def asciii(a):\n",
    "    b = ''\n",
    "    for i in a.lower():\n",
    "        if (ord(i)%2 == 0):\n",
    "            b += i.upper()\n",
    "        else:\n",
    "            b += i\n",
    "    print(f'{a}  {b}')\n",
    "        \n",
    "asciii(\"hi man\")"
   ]
  },
  {
   "cell_type": "code",
   "execution_count": null,
   "id": "5a09a343-78f6-4db9-b10e-54efe0bc898e",
   "metadata": {},
   "outputs": [],
   "source": []
  }
 ],
 "metadata": {
  "kernelspec": {
   "display_name": "Python 3 (ipykernel)",
   "language": "python",
   "name": "python3"
  },
  "language_info": {
   "codemirror_mode": {
    "name": "ipython",
    "version": 3
   },
   "file_extension": ".py",
   "mimetype": "text/x-python",
   "name": "python",
   "nbconvert_exporter": "python",
   "pygments_lexer": "ipython3",
   "version": "3.10.6"
  }
 },
 "nbformat": 4,
 "nbformat_minor": 5
}
