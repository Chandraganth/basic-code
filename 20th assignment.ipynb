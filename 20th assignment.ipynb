{
 "cells": [
  {
   "cell_type": "code",
   "execution_count": 5,
   "id": "0399221d-f29a-4c3a-8c40-c05b65e3a0df",
   "metadata": {},
   "outputs": [
    {
     "name": "stdout",
     "output_type": "stream",
     "text": [
      "Output [10, 22, 43, 84]\n"
     ]
    }
   ],
   "source": [
    "def Filter(a):\n",
    "    b = []\n",
    "    for i  in a:\n",
    "        if type(i) == int:\n",
    "            b.append(i)\n",
    "    print(f'Output {b}')\n",
    "\n",
    "Filter([10 ,22, 43, \"a\", \"b\", 84,\"ho\"])"
   ]
  },
  {
   "cell_type": "code",
   "execution_count": 8,
   "id": "a91820a8-891e-4654-aeb5-3374c9adef9b",
   "metadata": {},
   "outputs": [
    {
     "name": "stdout",
     "output_type": "stream",
     "text": [
      "[0, 0, 0, 0, 0]  [0, 1, 2, 3, 4]\n"
     ]
    }
   ],
   "source": [
    "def addi(a):\n",
    "    b = []\n",
    "    for i  in range(len(a)):\n",
    "        b.append(i+a[i])\n",
    "    print(f'{a}  {b}')\n",
    "        \n",
    "addi([0, 0, 0, 0, 0])"
   ]
  },
  {
   "cell_type": "code",
   "execution_count": 13,
   "id": "5ac07b01-7a3d-4bc4-b120-9d036885242d",
   "metadata": {},
   "outputs": [
    {
     "name": "stdout",
     "output_type": "stream",
     "text": [
      "volume  261.80\n"
     ]
    }
   ],
   "source": [
    "import math\n",
    "\n",
    "def vol(height, radius):\n",
    "    output = ((math.pi)*pow(radius,2))*(height/3)\n",
    "    print(f'volume  {output:.2f}')\n",
    "\n",
    "vol(10,5) "
   ]
  },
  {
   "cell_type": "code",
   "execution_count": 12,
   "id": "f041dc39-22a5-4c39-87d4-44947fc5a9bf",
   "metadata": {},
   "outputs": [
    {
     "name": "stdout",
     "output_type": "stream",
     "text": [
      "Output ➞ 15\n"
     ]
    }
   ],
   "source": [
    "def triangle(a):\n",
    "    print(f'Output ➞ {int((a)*((a+1)/2))}')\n",
    "\n",
    "triangle(5)"
   ]
  },
  {
   "cell_type": "code",
   "execution_count": 17,
   "id": "2c3b86ef-84e3-4148-8424-f02bd7abd609",
   "metadata": {},
   "outputs": [
    {
     "name": "stdout",
     "output_type": "stream",
     "text": [
      "[1, 2, 3, 4, 5, 6, 8]  7\n",
      "[1, 2, 3, 4, 5, 6, 8]  9\n",
      "[1, 2, 3, 4, 5, 6, 8]  10\n"
     ]
    }
   ],
   "source": [
    "def missing(a):\n",
    "    for i in range(1,11):\n",
    "        if i not in a:\n",
    "            print(f'{a}  {i}')\n",
    "            \n",
    "missing([1,2,3,4,5,6,8])"
   ]
  },
  {
   "cell_type": "code",
   "execution_count": null,
   "id": "d76b7809-0deb-4bfc-9f86-4e9aab4fe3d3",
   "metadata": {},
   "outputs": [],
   "source": []
  }
 ],
 "metadata": {
  "kernelspec": {
   "display_name": "Python 3 (ipykernel)",
   "language": "python",
   "name": "python3"
  },
  "language_info": {
   "codemirror_mode": {
    "name": "ipython",
    "version": 3
   },
   "file_extension": ".py",
   "mimetype": "text/x-python",
   "name": "python",
   "nbconvert_exporter": "python",
   "pygments_lexer": "ipython3",
   "version": "3.10.6"
  }
 },
 "nbformat": 4,
 "nbformat_minor": 5
}
