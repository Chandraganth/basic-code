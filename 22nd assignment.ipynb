{
 "cells": [
  {
   "cell_type": "code",
   "execution_count": 12,
   "id": "a5b269ef-c090-44f9-a83c-22ccbb2b0b8e",
   "metadata": {},
   "outputs": [
    {
     "name": "stdout",
     "output_type": "stream",
     "text": [
      "Output:  [3, 6, 9]\n"
     ]
    }
   ],
   "source": [
    "def op(start,end,divi):\n",
    "    a = []\n",
    "    for i in range(start,end+1):\n",
    "        if i%divi == 0:\n",
    "            a.append(i)\n",
    "    print(f'Output:  {a}')\n",
    "\n",
    "op(1, 10, 3)"
   ]
  },
  {
   "cell_type": "code",
   "execution_count": 13,
   "id": "2d320e7a-0552-4a78-ac41-3324e6cf1994",
   "metadata": {},
   "outputs": [
    {
     "name": "stdout",
     "output_type": "stream",
     "text": [
      "([1, 2], [5, 1])  True\n",
      "([1, 2], [5, 5])  False\n"
     ]
    }
   ],
   "source": [
    "def ss(list_1,list_2):\n",
    "    if len(list_1) == len(list_1) and len(list_1) >=2 and len(list_1) >=2:\n",
    "        if(list_1[:-1] == list_2[1:]):\n",
    "            print(f'{list_1,list_2}  {True}')\n",
    "        else:\n",
    "            print(f'{list_1,list_2}  {False}')\n",
    "            \n",
    "ss([1, 2], [5, 1])\n",
    "ss([1, 2], [5, 5])"
   ]
  },
  {
   "cell_type": "code",
   "execution_count": 14,
   "id": "165ce545-a56f-4d4d-aac9-24f4c24162bb",
   "metadata": {},
   "outputs": [
    {
     "name": "stdout",
     "output_type": "stream",
     "text": [
      "['bed', 'hella', 'toni']  bht\n"
     ]
    }
   ],
   "source": [
    "def sn(liist):\n",
    "    a = []\n",
    "    for i in liist:\n",
    "        a.append(i[0])\n",
    "    output = ''.join(sorted(a))\n",
    "    print(f'{liist}  {output}')\n",
    "\n",
    "sn([\"bed\", \"hella\", \"toni\"])"
   ]
  },
  {
   "cell_type": "code",
   "execution_count": 15,
   "id": "3e0f9fb4-3b6f-4b4d-a495-46b257564ff9",
   "metadata": {},
   "outputs": [
    {
     "name": "stdout",
     "output_type": "stream",
     "text": [
      "Arun  True\n"
     ]
    }
   ],
   "source": [
    "def iisogram(a):\n",
    "    b = a.lower()\n",
    "    if len(b) == len(set(b)):\n",
    "        print(f'{a}  {True}')\n",
    "    else:\n",
    "        print(f'{a}  {False}')\n",
    "    \n",
    "iisogram(\"Arun\")"
   ]
  },
  {
   "cell_type": "code",
   "execution_count": 17,
   "id": "3b3aa915-9fc3-48e7-902b-6279ba2a6912",
   "metadata": {},
   "outputs": [
    {
     "name": "stdout",
     "output_type": "stream",
     "text": [
      "abc  True\n",
      "bav  False\n"
     ]
    }
   ],
   "source": [
    "def test(a):\n",
    "    b = ''.join(sorted(a))\n",
    "    if a == b:\n",
    "        print(f'{a}  {True}')\n",
    "    else:\n",
    "       print(f'{a}  {False}')\n",
    "\n",
    "test(\"abc\")\n",
    "test(\"bav\")"
   ]
  },
  {
   "cell_type": "code",
   "execution_count": null,
   "id": "ab1551b9-6f52-4cc0-81df-336ca760cd0e",
   "metadata": {},
   "outputs": [],
   "source": []
  },
  {
   "cell_type": "code",
   "execution_count": null,
   "id": "f9d9b7c5-5a21-4507-8589-0fd8035d3088",
   "metadata": {},
   "outputs": [],
   "source": []
  }
 ],
 "metadata": {
  "kernelspec": {
   "display_name": "Python 3 (ipykernel)",
   "language": "python",
   "name": "python3"
  },
  "language_info": {
   "codemirror_mode": {
    "name": "ipython",
    "version": 3
   },
   "file_extension": ".py",
   "mimetype": "text/x-python",
   "name": "python",
   "nbconvert_exporter": "python",
   "pygments_lexer": "ipython3",
   "version": "3.10.6"
  }
 },
 "nbformat": 4,
 "nbformat_minor": 5
}
