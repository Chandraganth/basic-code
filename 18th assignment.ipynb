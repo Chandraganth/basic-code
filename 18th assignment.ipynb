{
 "cells": [
  {
   "cell_type": "code",
   "execution_count": 6,
   "id": "15dadde9-b7ea-48db-bf70-ae51ee1fc648",
   "metadata": {},
   "outputs": [
    {
     "name": "stdout",
     "output_type": "stream",
     "text": [
      "➞ [1, 2]\n",
      "➞ [10, 0, 5]\n"
     ]
    }
   ],
   "source": [
    "def test(list):\n",
    "    a = []\n",
    "    for i in list:\n",
    "        if type(i) == int and i >= 0:\n",
    "            a.append(i)\n",
    "    return a\n",
    "            \n",
    "print(f'➞ {test([1, 2, \"a\", \"b\"])}')\n",
    "print(f'➞ {test([10, \"a\", \"b\", 0, 5])}')\n"
   ]
  },
  {
   "cell_type": "code",
   "execution_count": 8,
   "id": "32a93f1d-b31f-4448-ae97-f86e6b1a7258",
   "metadata": {},
   "outputs": [
    {
     "name": "stdout",
     "output_type": "stream",
     "text": [
      "eye ➞ EYE\n",
      "arun ➞ NURA\n"
     ]
    }
   ],
   "source": [
    "def reverse(a):\n",
    "    print(f'{a} ➞ {a[::-1].swapcase()}')\n",
    "    \n",
    "reverse(\"eye\")\n",
    "reverse(\"arun\")"
   ]
  },
  {
   "cell_type": "code",
   "execution_count": 9,
   "id": "7e06da60-caed-4284-a72d-ae317f1b360e",
   "metadata": {},
   "outputs": [
    {
     "name": "stdout",
     "output_type": "stream",
     "text": [
      "first ➞ 10\n",
      "middle ➞ [20, 30, 40, 50]\n",
      "last ➞ 60\n"
     ]
    }
   ],
   "source": [
    "first, *middle, last = [10,20,30,40,50,60]\n",
    "print(f'first ➞ {first}')\n",
    "print(f'middle ➞ {middle}')\n",
    "print(f'last ➞ {last}')"
   ]
  },
  {
   "cell_type": "code",
   "execution_count": 14,
   "id": "a7c2f6c5-d33c-4246-ab67-4ff90bdbaceb",
   "metadata": {},
   "outputs": [
    {
     "name": "stdout",
     "output_type": "stream",
     "text": [
      "factorial(6) ➞ 120\n"
     ]
    }
   ],
   "source": [
    "def factorial(n):\n",
    "    if n==0:\n",
    "        return 1\n",
    "    return n * factorial(n-1)\n",
    "\n",
    "print(f'factorial(6) ➞ {factorial(5)}')"
   ]
  },
  {
   "cell_type": "code",
   "execution_count": 18,
   "id": "57accb42-010c-487d-8e83-443e9b7849c2",
   "metadata": {},
   "outputs": [
    {
     "name": "stdout",
     "output_type": "stream",
     "text": [
      "test([1, 2, 3, 5, 2, 3, 6], 9) ➞ [1, 2, 3, 5, 2, 3, 6]\n",
      "test([\"a\", \"a\", \"a\", \"b\"], \"a\") ➞ ['b', 'a', 'a', 'a']\n"
     ]
    }
   ],
   "source": [
    "def test(list,num):\n",
    "    first_end = []\n",
    "    second_end = []\n",
    "    for i in list:\n",
    "        if i == num:\n",
    "            second_end.append(i)\n",
    "        else:\n",
    "            first_end.append(i)\n",
    "    first_end.extend(second_end)\n",
    "    return first_end\n",
    "\n",
    "print(f'test([1, 2, 3, 5, 2, 3, 6], 9) ➞ {test([1, 2, 3, 5, 2, 3, 6], 9)}')\n",
    "print(f'test([\"a\", \"a\", \"a\", \"b\"], \"a\") ➞ {test([\"a\", \"a\", \"a\", \"b\"], \"a\")}')"
   ]
  },
  {
   "cell_type": "code",
   "execution_count": null,
   "id": "fcba4000-16ff-498c-8cdc-f4ea75f36fc9",
   "metadata": {},
   "outputs": [],
   "source": []
  }
 ],
 "metadata": {
  "kernelspec": {
   "display_name": "Python 3 (ipykernel)",
   "language": "python",
   "name": "python3"
  },
  "language_info": {
   "codemirror_mode": {
    "name": "ipython",
    "version": 3
   },
   "file_extension": ".py",
   "mimetype": "text/x-python",
   "name": "python",
   "nbconvert_exporter": "python",
   "pygments_lexer": "ipython3",
   "version": "3.10.6"
  }
 },
 "nbformat": 4,
 "nbformat_minor": 5
}
