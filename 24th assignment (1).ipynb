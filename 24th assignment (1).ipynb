{
 "cells": [
  {
   "cell_type": "code",
   "execution_count": 2,
   "id": "0f9dc311-59c1-4721-b835-68adb2b65823",
   "metadata": {},
   "outputs": [
    {
     "name": "stdout",
     "output_type": "stream",
     "text": [
      "[1, 2, 1, 3, 4, 5, 6, 6, 5, 4, 3, 9]  9\n"
     ]
    }
   ],
   "source": [
    "def unique(a):\n",
    "    b = ''\n",
    "    for i in set(a):\n",
    "        if a.count(i) == 1:\n",
    "            b = i\n",
    "    print(f'{a}  {b}')\n",
    "\n",
    "unique([1,2,1,3,4,5,6,6,5,4,3,9])"
   ]
  },
  {
   "cell_type": "code",
   "execution_count": 4,
   "id": "5b466008-dc96-48e6-9418-4bdcf200bd0c",
   "metadata": {},
   "outputs": [
    {
     "name": "stdout",
     "output_type": "stream",
     "text": [
      "Radius  314\n",
      "Perimeter  31\n"
     ]
    }
   ],
   "source": [
    "import math\n",
    "\n",
    "class Circle:\n",
    "    def __init__(self, radius):\n",
    "        self.radius = radius\n",
    "    def getArea(self):\n",
    "        print(f'Radius  {round(math.pi*self.radius*self.radius)}')\n",
    "    def getPerimeter(self):\n",
    "        print(f'Perimeter  {round(2*math.pi*self.radius)}')\n",
    "    \n",
    "circ = Circle(10)\n",
    "circ.getArea()\n",
    "\n",
    "circ = Circle(5)\n",
    "circ.getPerimeter()"
   ]
  },
  {
   "cell_type": "code",
   "execution_count": 6,
   "id": "f1076c8c-10f2-459f-a4df-5356a0c48b43",
   "metadata": {},
   "outputs": [
    {
     "name": "stdout",
     "output_type": "stream",
     "text": [
      "['delhi', 'mumbai', 'chennai']\n"
     ]
    }
   ],
   "source": [
    "def sortlen(a):\n",
    "    print(sorted(a,key=len))\n",
    "\n",
    "sortlen([\"chennai\", \"mumbai\", \"delhi\"])"
   ]
  },
  {
   "cell_type": "code",
   "execution_count": 12,
   "id": "18119ffc-b069-493e-9ba5-6e2f22597260",
   "metadata": {},
   "outputs": [
    {
     "name": "stdout",
     "output_type": "stream",
     "text": [
      "(3, 4, 5)  True\n"
     ]
    }
   ],
   "source": [
    "def trip(a,b,c):\n",
    "    if ((a**2+b**2) == (c**2)):\n",
    "        print(f'{a,b,c}  {True}')\n",
    "    else:\n",
    "        print(f'{a,b,c}  {False}')\n",
    "        \n",
    "trip(3,4,5)"
   ]
  },
  {
   "cell_type": "code",
   "execution_count": null,
   "id": "1626f3fc-6bcd-4ead-8eea-2d178d3119dc",
   "metadata": {},
   "outputs": [],
   "source": []
  }
 ],
 "metadata": {
  "kernelspec": {
   "display_name": "Python 3 (ipykernel)",
   "language": "python",
   "name": "python3"
  },
  "language_info": {
   "codemirror_mode": {
    "name": "ipython",
    "version": 3
   },
   "file_extension": ".py",
   "mimetype": "text/x-python",
   "name": "python",
   "nbconvert_exporter": "python",
   "pygments_lexer": "ipython3",
   "version": "3.10.6"
  }
 },
 "nbformat": 4,
 "nbformat_minor": 5
}
